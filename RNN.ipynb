{
  "nbformat": 4,
  "nbformat_minor": 0,
  "metadata": {
    "colab": {
      "provenance": [],
      "gpuType": "T4",
      "include_colab_link": true
    },
    "kernelspec": {
      "name": "python3",
      "display_name": "Python 3"
    },
    "language_info": {
      "name": "python"
    },
    "accelerator": "GPU"
  },
  "cells": [
    {
      "cell_type": "markdown",
      "metadata": {
        "id": "view-in-github",
        "colab_type": "text"
      },
      "source": [
        "<a href=\"https://colab.research.google.com/github/siddhant-uniyal/NLP/blob/main/RNN.ipynb\" target=\"_parent\"><img src=\"https://colab.research.google.com/assets/colab-badge.svg\" alt=\"Open In Colab\"/></a>"
      ]
    },
    {
      "cell_type": "markdown",
      "source": [
        "#Embedding Layer from Scratch\n"
      ],
      "metadata": {
        "id": "fQ-Qo4I7yRN5"
      }
    },
    {
      "cell_type": "code",
      "source": [
        "#\"embeddings\" are called embeddings because the words are \"embedded\" as fixed points in a continuous vector space. continuous vector means\n",
        "#the coords are real values , not discrete (0 or 1 like in one hot encoding)\n",
        "#this is important because coords that are similar correspond to words that are similar. so vectors being close , parallel ,\n",
        "#antiparallel , etc. actually means something in embeddings. discrete vectors are too\n",
        "#erratic because they will only have either a 0 or a 1 as a coord value , there wont be any smooth patterns possible\n",
        "#this is the first diff -> previous embeddings (except w2v) are not created with context in mind. the vectors don't really form desired patterns\n",
        "#second diff -> no dimensionality compression -> if vocab is of 10k , previous vectors will all be of 10k dimensions (except w2v).\n",
        "#but embedding of keras can be of specified dimensions"
      ],
      "metadata": {
        "id": "af-ItiIMN-VO"
      },
      "execution_count": 3,
      "outputs": []
    },
    {
      "cell_type": "code",
      "source": [
        "import pandas as pd\n",
        "import numpy as np\n",
        "import pickle\n",
        "from google.colab import drive\n",
        "drive.mount('/content/gdrive')\n",
        "import re\n",
        "import nltk\n",
        "from nltk.corpus import stopwords\n",
        "nltk.download('punkt')\n",
        "nltk.download('stopwords')\n",
        "nltk.download('wordnet')\n",
        "nltk.download('omw-1.4')\n",
        "from nltk.stem import WordNetLemmatizer\n",
        "from nltk.tokenize import  word_tokenize\n",
        "import tensorflow as tf\n",
        "from tensorflow.keras.preprocessing.text import one_hot , Tokenizer\n",
        "from tensorflow.keras.layers import Embedding,Dense,Flatten,GlobalAveragePooling1D,LSTM,Dropout\n",
        "from tensorflow.keras.preprocessing.sequence import pad_sequences\n",
        "from tensorflow.keras.models import Sequential\n",
        "from sklearn.model_selection import train_test_split\n",
        "from tensorflow.keras.utils import to_categorical"
      ],
      "metadata": {
        "id": "wc7IqWfhy2mY",
        "colab": {
          "base_uri": "https://localhost:8080/"
        },
        "outputId": "752f3500-70f5-4fe6-94c1-89b9d4b69ae3"
      },
      "execution_count": 3,
      "outputs": [
        {
          "output_type": "stream",
          "name": "stdout",
          "text": [
            "Drive already mounted at /content/gdrive; to attempt to forcibly remount, call drive.mount(\"/content/gdrive\", force_remount=True).\n"
          ]
        },
        {
          "output_type": "stream",
          "name": "stderr",
          "text": [
            "[nltk_data] Downloading package punkt to /root/nltk_data...\n",
            "[nltk_data]   Package punkt is already up-to-date!\n",
            "[nltk_data] Downloading package stopwords to /root/nltk_data...\n",
            "[nltk_data]   Package stopwords is already up-to-date!\n",
            "[nltk_data] Downloading package wordnet to /root/nltk_data...\n",
            "[nltk_data]   Package wordnet is already up-to-date!\n",
            "[nltk_data] Downloading package omw-1.4 to /root/nltk_data...\n",
            "[nltk_data]   Package omw-1.4 is already up-to-date!\n"
          ]
        }
      ]
    },
    {
      "cell_type": "code",
      "source": [
        "with open ('/content/gdrive/My Drive/w2v.ob', 'rb') as fp: # from Tokenization project\n",
        "    corpus = pickle.load(fp)"
      ],
      "metadata": {
        "id": "jRzRd-mpJa6b"
      },
      "execution_count": 4,
      "outputs": []
    },
    {
      "cell_type": "code",
      "source": [
        "vocabulary = set()\n",
        "\n",
        "vocabulary.update(word for list in corpus for word in list)\n",
        "\n",
        "vocabulary = sorted(list(vocabulary))\n",
        "\n",
        "vocab_size = len(vocabulary)\n",
        "\n",
        "print(vocab_size) #same as Tokenization project"
      ],
      "metadata": {
        "colab": {
          "base_uri": "https://localhost:8080/"
        },
        "id": "BmPfc3C90XNz",
        "outputId": "68f271a8-4ef6-4f70-f81d-e743e557ed08"
      },
      "execution_count": 5,
      "outputs": [
        {
          "output_type": "stream",
          "name": "stdout",
          "text": [
            "89043\n"
          ]
        }
      ]
    },
    {
      "cell_type": "code",
      "source": [
        "OH_rep = [one_hot(' '.join(list) , vocab_size) for list in corpus] #it wants a string"
      ],
      "metadata": {
        "id": "hMK-wIdV0nWh"
      },
      "execution_count": 6,
      "outputs": []
    },
    {
      "cell_type": "code",
      "source": [
        "# OH_rep[0] #takes a string -> makes every word it's index in the vocab. so -> \"car apple dog\" becomes [10 8 19] , car occurs at 10th index in vocab , apple at 8th and dog at 19th"
      ],
      "metadata": {
        "id": "9HeT6O6uMKNq"
      },
      "execution_count": 8,
      "outputs": []
    },
    {
      "cell_type": "code",
      "source": [
        "len(OH_rep) #same as number of sentences"
      ],
      "metadata": {
        "colab": {
          "base_uri": "https://localhost:8080/"
        },
        "id": "l2w1Tabs5ojf",
        "outputId": "62585275-7250-4228-f05c-a59b4c88661a"
      },
      "execution_count": 7,
      "outputs": [
        {
          "output_type": "execute_result",
          "data": {
            "text/plain": [
              "49544"
            ]
          },
          "metadata": {},
          "execution_count": 7
        }
      ]
    },
    {
      "cell_type": "code",
      "source": [
        "print( vocabulary[OH_rep[0][0]] in corpus[0] )  #the reason one_hot is able to work without knowing the actual vocab is it just randomly hashes the word to a number within [1,vocab_size]\n",
        "#it gave some random index to the first word of the first sentence in the corpus. if we try to check whether this index is random or correct , we get to know that it's random"
      ],
      "metadata": {
        "colab": {
          "base_uri": "https://localhost:8080/"
        },
        "id": "fOP3JwezxcAj",
        "outputId": "f5df3317-0faa-4c94-b32f-b4323ff458ea"
      },
      "execution_count": 8,
      "outputs": [
        {
          "output_type": "stream",
          "name": "stdout",
          "text": [
            "False\n"
          ]
        }
      ]
    },
    {
      "cell_type": "code",
      "source": [
        "vocabulary[0]"
      ],
      "metadata": {
        "colab": {
          "base_uri": "https://localhost:8080/",
          "height": 36
        },
        "id": "n6ksvQ1TTn65",
        "outputId": "c8be11c3-6af4-49ff-b8a8-c71b58119300"
      },
      "execution_count": 9,
      "outputs": [
        {
          "output_type": "execute_result",
          "data": {
            "text/plain": [
              "'aa'"
            ],
            "application/vnd.google.colaboratory.intrinsic+json": {
              "type": "string"
            }
          },
          "metadata": {},
          "execution_count": 9
        }
      ]
    },
    {
      "cell_type": "code",
      "source": [
        "#ik max length is 740 from Tokenization project\n",
        "pre_pad = pad_sequences(OH_rep , padding = \"pre\" , maxlen = 740)"
      ],
      "metadata": {
        "id": "l_5tP3eG6lym"
      },
      "execution_count": 10,
      "outputs": []
    },
    {
      "cell_type": "code",
      "source": [
        "pre_pad.shape #this is the X for this project. n_samples = 49k and input_shape = (None , 740)"
      ],
      "metadata": {
        "colab": {
          "base_uri": "https://localhost:8080/"
        },
        "id": "R6QddgJzp9q-",
        "outputId": "4882201b-4f36-4114-a23b-899ce093677a"
      },
      "execution_count": 11,
      "outputs": [
        {
          "output_type": "execute_result",
          "data": {
            "text/plain": [
              "(49544, 740)"
            ]
          },
          "metadata": {},
          "execution_count": 11
        }
      ]
    },
    {
      "cell_type": "code",
      "source": [
        "post_pad = pad_sequences(OH_rep , padding = \"post\" , maxlen = 740)"
      ],
      "metadata": {
        "id": "Gb7XVcW85IBk"
      },
      "execution_count": 12,
      "outputs": []
    },
    {
      "cell_type": "code",
      "source": [
        "#Embedding layer is nothing but a lookup table of shape (size of vocab , required number of final features )\n",
        "#so if size of vocab is 100 , and we want 10 to be number of final dimensions , 100x10 matrix would mean that now , every word is of 10 dimensions (every row is of 10 columns) and this is\n",
        "#true for all the words in the vocab(size number of rows = number of words in vocab)\n",
        "\n",
        "class CustomEmbeddingLayerRandomInit(tf.keras.layers.Layer): #extends Layer\n",
        "    def __init__(self, input_dim , output_dim , sequence_length):\n",
        "        super(CustomEmbeddingLayerRandomInit, self).__init__()\n",
        "        self.input_dim = input_dim\n",
        "        self.output_dim = output_dim\n",
        "        self.sequence_length = sequence_length\n",
        "\n",
        "    def build(self , input_shape = None):\n",
        "      self.lookup_table = self.add_weight(\"embedding_matrix\", #add_weight is method of tf\n",
        "                                               shape=(self.input_dim, self.output_dim), #a row for each word , and each row of size we define\n",
        "                                               initializer=\"random_normal\", #this is causing the embeddings to not make any sense. If I use pre-trained embeddings to initialize the lookup table , the model will set off on the right track.\n",
        "                                                #rn it starts with random weights and will optimize these random weights , which we don't want.\n",
        "                                               trainable=True)\n",
        "\n",
        "\n",
        "    def call(self, input_sequence): #overriding call method of Layer\n",
        "        input_sequence = tf.cast(input_sequence, \"int32\")\n",
        "\n",
        "\n",
        "        return tf.nn.embedding_lookup(self.lookup_table, input_sequence) #w/ tf"
      ],
      "metadata": {
        "id": "w6rWPayTcyjh"
      },
      "execution_count": 13,
      "outputs": []
    },
    {
      "cell_type": "code",
      "source": [
        "dim= 512"
      ],
      "metadata": {
        "id": "iwjVGDG_AWeb"
      },
      "execution_count": 14,
      "outputs": []
    },
    {
      "cell_type": "code",
      "source": [
        "model = Sequential([\n",
        "    CustomEmbeddingLayerRandomInit(vocab_size + 1 , dim , sequence_length = 740),\n",
        "    Flatten(),\n",
        "    Dense(1 , activation = \"sigmoid\")\n",
        "])\n",
        "\n",
        "model.build(input_shape = (None , 740))\n",
        "model.summary()\n",
        "\n",
        "#so embedding table has 89k rows and 10 columns. but the output will be (740 , 10) , 740 vectors of all the words , each of dimensions = 10"
      ],
      "metadata": {
        "id": "UPLNuTdSdO3l",
        "colab": {
          "base_uri": "https://localhost:8080/"
        },
        "outputId": "faa2df88-238c-44d4-9ef0-4bb2b4e3ffa3"
      },
      "execution_count": 15,
      "outputs": [
        {
          "output_type": "stream",
          "name": "stdout",
          "text": [
            "Model: \"sequential\"\n",
            "_________________________________________________________________\n",
            " Layer (type)                Output Shape              Param #   \n",
            "=================================================================\n",
            " custom_embedding_layer_ran  (None, 740, 512)          45590528  \n",
            " dom_init (CustomEmbeddingL                                      \n",
            " ayerRandomInit)                                                 \n",
            "                                                                 \n",
            " flatten (Flatten)           (None, 378880)            0         \n",
            "                                                                 \n",
            " dense (Dense)               (None, 1)                 378881    \n",
            "                                                                 \n",
            "=================================================================\n",
            "Total params: 45969409 (175.36 MB)\n",
            "Trainable params: 45969409 (175.36 MB)\n",
            "Non-trainable params: 0 (0.00 Byte)\n",
            "_________________________________________________________________\n"
          ]
        }
      ]
    },
    {
      "cell_type": "code",
      "source": [
        "model.compile(\"adam\",\"bce\",[\"accuracy\"])"
      ],
      "metadata": {
        "id": "KzWS7owPsjJc"
      },
      "execution_count": 16,
      "outputs": []
    },
    {
      "cell_type": "code",
      "source": [
        "with open ('/content/gdrive/My Drive/y.ob', 'rb') as fp: #from Tokenization project\n",
        "    y = pickle.load(fp)"
      ],
      "metadata": {
        "id": "pmbb-Oj2oTCD"
      },
      "execution_count": 17,
      "outputs": []
    },
    {
      "cell_type": "code",
      "source": [
        "X_train , X_test , y_train , y_test = train_test_split(pre_pad , y , test_size = 0.3 , random_state = 2021)"
      ],
      "metadata": {
        "id": "DWpv81xBuq6E"
      },
      "execution_count": 18,
      "outputs": []
    },
    {
      "cell_type": "code",
      "source": [
        "model.fit(X_train,y_train, epochs=10, verbose=2)"
      ],
      "metadata": {
        "id": "Qtt96uGGecjE",
        "colab": {
          "base_uri": "https://localhost:8080/"
        },
        "outputId": "d1423920-2a06-4ade-ec3f-6fcf1557c352"
      },
      "execution_count": 19,
      "outputs": [
        {
          "output_type": "stream",
          "name": "stdout",
          "text": [
            "Epoch 1/10\n",
            "1084/1084 - 75s - loss: 0.3960 - accuracy: 0.8301 - 75s/epoch - 69ms/step\n",
            "Epoch 2/10\n",
            "1084/1084 - 31s - loss: 0.0497 - accuracy: 0.9861 - 31s/epoch - 29ms/step\n",
            "Epoch 3/10\n",
            "1084/1084 - 22s - loss: 0.0051 - accuracy: 0.9996 - 22s/epoch - 20ms/step\n",
            "Epoch 4/10\n",
            "1084/1084 - 19s - loss: 0.0012 - accuracy: 1.0000 - 19s/epoch - 18ms/step\n",
            "Epoch 5/10\n",
            "1084/1084 - 18s - loss: 5.2364e-04 - accuracy: 1.0000 - 18s/epoch - 17ms/step\n",
            "Epoch 6/10\n",
            "1084/1084 - 18s - loss: 2.6546e-04 - accuracy: 1.0000 - 18s/epoch - 16ms/step\n",
            "Epoch 7/10\n",
            "1084/1084 - 17s - loss: 1.4074e-04 - accuracy: 1.0000 - 17s/epoch - 16ms/step\n",
            "Epoch 8/10\n",
            "1084/1084 - 17s - loss: 7.6021e-05 - accuracy: 1.0000 - 17s/epoch - 15ms/step\n",
            "Epoch 9/10\n",
            "1084/1084 - 16s - loss: 4.1633e-05 - accuracy: 1.0000 - 16s/epoch - 15ms/step\n",
            "Epoch 10/10\n",
            "1084/1084 - 16s - loss: 2.3071e-05 - accuracy: 1.0000 - 16s/epoch - 14ms/step\n"
          ]
        },
        {
          "output_type": "execute_result",
          "data": {
            "text/plain": [
              "<keras.src.callbacks.History at 0x7d3301aefee0>"
            ]
          },
          "metadata": {},
          "execution_count": 19
        }
      ]
    },
    {
      "cell_type": "code",
      "source": [
        "model.evaluate(X_test,y_test,verbose=2)"
      ],
      "metadata": {
        "id": "wSZbOchIikS5",
        "colab": {
          "base_uri": "https://localhost:8080/"
        },
        "outputId": "9b18d6e9-6279-4c9a-9b30-c0d993ad61a6"
      },
      "execution_count": 20,
      "outputs": [
        {
          "output_type": "stream",
          "name": "stdout",
          "text": [
            "465/465 - 1s - loss: 0.5002 - accuracy: 0.8832 - 1s/epoch - 2ms/step\n"
          ]
        },
        {
          "output_type": "execute_result",
          "data": {
            "text/plain": [
              "[0.5002335906028748, 0.8832077383995056]"
            ]
          },
          "metadata": {},
          "execution_count": 20
        }
      ]
    },
    {
      "cell_type": "code",
      "source": [
        "embed_layer = model.layers[0].get_weights()[0]\n",
        "embed_layer.shape"
      ],
      "metadata": {
        "id": "_cd4moP3HGvG",
        "colab": {
          "base_uri": "https://localhost:8080/"
        },
        "outputId": "964603d9-32e4-45e3-c191-7e27211e0c9e"
      },
      "execution_count": 21,
      "outputs": [
        {
          "output_type": "execute_result",
          "data": {
            "text/plain": [
              "(89044, 512)"
            ]
          },
          "metadata": {},
          "execution_count": 21
        }
      ]
    },
    {
      "cell_type": "code",
      "source": [
        "# testing whether this embedding layer is able to store proper meaning\n",
        "\n",
        "vec1 = embed_layer[vocabulary.index(\"man\")]\n",
        "vec2 = embed_layer[vocabulary.index(\"male\")]\n",
        "\n",
        "print(1 - spatial.distance.cosine(vec1 , vec2))\n",
        "\n",
        "# hence , these embeddings dont have any meaning , because they have been initialized randomly. result should have been very close to 1"
      ],
      "metadata": {
        "colab": {
          "base_uri": "https://localhost:8080/"
        },
        "id": "niOQooHBRevZ",
        "outputId": "1a395538-2d95-46fb-aaa3-cae1c43e8679"
      },
      "execution_count": 36,
      "outputs": [
        {
          "output_type": "stream",
          "name": "stdout",
          "text": [
            "0.05422476306557655\n"
          ]
        }
      ]
    },
    {
      "cell_type": "code",
      "source": [
        "model = Sequential([\n",
        "    Embedding(input_dim = vocab_size,output_dim = 10,input_length = 740),\n",
        "    Flatten(),\n",
        "    Dense(1, activation=\"sigmoid\")\n",
        "])\n",
        "\n",
        "model.compile(\"adam\",\"bce\",[\"accuracy\"])\n",
        "model.fit(X_train,y_train, epochs=10, verbose=2)\n",
        "\n"
      ],
      "metadata": {
        "id": "KIWFkWuntNup",
        "colab": {
          "base_uri": "https://localhost:8080/"
        },
        "outputId": "ae017712-ea23-4f62-f4b5-b3efa1ae6fcc"
      },
      "execution_count": 37,
      "outputs": [
        {
          "output_type": "stream",
          "name": "stdout",
          "text": [
            "Epoch 1/10\n",
            "1084/1084 - 116s - loss: 0.4064 - accuracy: 0.8140 - 116s/epoch - 107ms/step\n",
            "Epoch 2/10\n",
            "1084/1084 - 29s - loss: 0.2008 - accuracy: 0.9238 - 29s/epoch - 27ms/step\n",
            "Epoch 3/10\n",
            "1084/1084 - 17s - loss: 0.1331 - accuracy: 0.9550 - 17s/epoch - 16ms/step\n",
            "Epoch 4/10\n",
            "1084/1084 - 14s - loss: 0.0874 - accuracy: 0.9742 - 14s/epoch - 13ms/step\n",
            "Epoch 5/10\n",
            "1084/1084 - 11s - loss: 0.0540 - accuracy: 0.9871 - 11s/epoch - 10ms/step\n",
            "Epoch 6/10\n",
            "1084/1084 - 8s - loss: 0.0315 - accuracy: 0.9940 - 8s/epoch - 7ms/step\n",
            "Epoch 7/10\n",
            "1084/1084 - 8s - loss: 0.0180 - accuracy: 0.9973 - 8s/epoch - 8ms/step\n",
            "Epoch 8/10\n",
            "1084/1084 - 8s - loss: 0.0098 - accuracy: 0.9990 - 8s/epoch - 7ms/step\n",
            "Epoch 9/10\n",
            "1084/1084 - 7s - loss: 0.0053 - accuracy: 0.9997 - 7s/epoch - 6ms/step\n",
            "Epoch 10/10\n",
            "1084/1084 - 5s - loss: 0.0028 - accuracy: 0.9999 - 5s/epoch - 5ms/step\n"
          ]
        },
        {
          "output_type": "execute_result",
          "data": {
            "text/plain": [
              "<keras.src.callbacks.History at 0x7d32f00b7130>"
            ]
          },
          "metadata": {},
          "execution_count": 37
        }
      ]
    },
    {
      "cell_type": "code",
      "source": [
        "model.evaluate(X_test,y_test,verbose=2)\n",
        "#accuracies are comparable between embedding layer from scratch and that of keras , because our layer's functionality is very similar to keras's\n",
        "#embedding layer. also problem of random embeddings will still exist"
      ],
      "metadata": {
        "id": "cbA5E2Ou-3Ab",
        "colab": {
          "base_uri": "https://localhost:8080/"
        },
        "outputId": "a12974cd-ab8a-45b0-ddcc-1b58859c43e8"
      },
      "execution_count": 38,
      "outputs": [
        {
          "output_type": "stream",
          "name": "stdout",
          "text": [
            "465/465 - 1s - loss: 0.5377 - accuracy: 0.8716 - 875ms/epoch - 2ms/step\n"
          ]
        },
        {
          "output_type": "execute_result",
          "data": {
            "text/plain": [
              "[0.5377461910247803, 0.8715689182281494]"
            ]
          },
          "metadata": {},
          "execution_count": 38
        }
      ]
    },
    {
      "cell_type": "markdown",
      "source": [
        "#Text Generation using LSTM"
      ],
      "metadata": {
        "id": "8SaRPt8i9ZiY"
      }
    },
    {
      "cell_type": "code",
      "source": [
        "file_path = '/content/gdrive/My Drive/aliceinwonderland.txt'\n",
        "with open(file_path, 'r', encoding='utf-8') as file:\n",
        "    text = file.read()"
      ],
      "metadata": {
        "id": "BDyT19nzxcJt"
      },
      "execution_count": 39,
      "outputs": []
    },
    {
      "cell_type": "code",
      "source": [
        "type(text)"
      ],
      "metadata": {
        "id": "-wxGIN32bVns",
        "colab": {
          "base_uri": "https://localhost:8080/"
        },
        "outputId": "0b2f0fb7-11e7-403c-a9ea-e30641ce924c"
      },
      "execution_count": 40,
      "outputs": [
        {
          "output_type": "execute_result",
          "data": {
            "text/plain": [
              "str"
            ]
          },
          "metadata": {},
          "execution_count": 40
        }
      ]
    },
    {
      "cell_type": "code",
      "source": [
        "tokenizer = tf.keras.preprocessing.text.Tokenizer(filters='!\"#$%&()*+,-./:;<=>?@[\\\\]^_`{|}~\\t\\n”“’')\n",
        "tokenizer.fit_on_texts([text])\n",
        "vocabulary = tokenizer.word_index #->creates dict of words and their indices in the vocab , cleaning done automatically\n",
        "vocab_len = len(vocabulary) + 1 #cause 0 index is not reserved to any word. so effective size becomes ogSize + 1"
      ],
      "metadata": {
        "id": "mcvcAXnCxeZn"
      },
      "execution_count": 41,
      "outputs": []
    },
    {
      "cell_type": "code",
      "source": [
        "vocabulary"
      ],
      "metadata": {
        "id": "sacNPvYmlNDG",
        "colab": {
          "base_uri": "https://localhost:8080/"
        },
        "outputId": "6e3e9d7e-c981-4c5b-bba3-b4aaf18e8a16"
      },
      "execution_count": 42,
      "outputs": [
        {
          "output_type": "execute_result",
          "data": {
            "text/plain": [
              "{'the': 1,\n",
              " 'and': 2,\n",
              " 'to': 3,\n",
              " 'a': 4,\n",
              " 'it': 5,\n",
              " 'she': 6,\n",
              " 'i': 7,\n",
              " 'of': 8,\n",
              " 'said': 9,\n",
              " 'you': 10,\n",
              " 'alice': 11,\n",
              " 'in': 12,\n",
              " 'was': 13,\n",
              " 'that': 14,\n",
              " 'as': 15,\n",
              " 'her': 16,\n",
              " 't': 17,\n",
              " 'at': 18,\n",
              " 's': 19,\n",
              " 'on': 20,\n",
              " 'with': 21,\n",
              " 'all': 22,\n",
              " 'had': 23,\n",
              " 'but': 24,\n",
              " 'for': 25,\n",
              " 'so': 26,\n",
              " 'they': 27,\n",
              " 'be': 28,\n",
              " 'very': 29,\n",
              " 'not': 30,\n",
              " 'what': 31,\n",
              " 'this': 32,\n",
              " 'little': 33,\n",
              " 'he': 34,\n",
              " 'out': 35,\n",
              " 'down': 36,\n",
              " 'one': 37,\n",
              " 'is': 38,\n",
              " 'up': 39,\n",
              " 'there': 40,\n",
              " 'his': 41,\n",
              " 'about': 42,\n",
              " 'if': 43,\n",
              " 'then': 44,\n",
              " 'no': 45,\n",
              " 'like': 46,\n",
              " 'were': 47,\n",
              " 'would': 48,\n",
              " 'went': 49,\n",
              " 'herself': 50,\n",
              " 'them': 51,\n",
              " 'again': 52,\n",
              " 'know': 53,\n",
              " 'do': 54,\n",
              " 'have': 55,\n",
              " 'when': 56,\n",
              " 'could': 57,\n",
              " 'queen': 58,\n",
              " 'or': 59,\n",
              " 'thought': 60,\n",
              " 'off': 61,\n",
              " 'time': 62,\n",
              " 'me': 63,\n",
              " 'into': 64,\n",
              " 'see': 65,\n",
              " 'how': 66,\n",
              " 'king': 67,\n",
              " 'who': 68,\n",
              " 'did': 69,\n",
              " 'your': 70,\n",
              " 'can': 71,\n",
              " 'm': 72,\n",
              " 'well': 73,\n",
              " 'don': 74,\n",
              " 'turtle': 75,\n",
              " 'by': 76,\n",
              " 'began': 77,\n",
              " 'my': 78,\n",
              " 'now': 79,\n",
              " 'mock': 80,\n",
              " 'its': 81,\n",
              " 'll': 82,\n",
              " 'an': 83,\n",
              " 'hatter': 84,\n",
              " 'quite': 85,\n",
              " 'gryphon': 86,\n",
              " 'way': 87,\n",
              " 'rabbit': 88,\n",
              " 'are': 89,\n",
              " 'their': 90,\n",
              " 'much': 91,\n",
              " 'just': 92,\n",
              " 'some': 93,\n",
              " 'think': 94,\n",
              " 'say': 95,\n",
              " 'go': 96,\n",
              " 'first': 97,\n",
              " 'which': 98,\n",
              " 'only': 99,\n",
              " 'thing': 100,\n",
              " 'here': 101,\n",
              " 'head': 102,\n",
              " 'more': 103,\n",
              " 'voice': 104,\n",
              " 'get': 105,\n",
              " 'never': 106,\n",
              " 'looked': 107,\n",
              " 'got': 108,\n",
              " 've': 109,\n",
              " 'must': 110,\n",
              " 'after': 111,\n",
              " 'come': 112,\n",
              " 'duchess': 113,\n",
              " 'round': 114,\n",
              " 'him': 115,\n",
              " 'over': 116,\n",
              " 'such': 117,\n",
              " 'mouse': 118,\n",
              " 'came': 119,\n",
              " 'two': 120,\n",
              " 'tone': 121,\n",
              " 'dormouse': 122,\n",
              " 'great': 123,\n",
              " 'why': 124,\n",
              " 'other': 125,\n",
              " 'any': 126,\n",
              " 'back': 127,\n",
              " 'oh': 128,\n",
              " 'before': 129,\n",
              " 're': 130,\n",
              " 'been': 131,\n",
              " 'from': 132,\n",
              " 'cat': 133,\n",
              " 'nothing': 134,\n",
              " 'long': 135,\n",
              " 'large': 136,\n",
              " 'we': 137,\n",
              " 'last': 138,\n",
              " 'march': 139,\n",
              " 'once': 140,\n",
              " 'right': 141,\n",
              " 'tell': 142,\n",
              " 'looking': 143,\n",
              " 'moment': 144,\n",
              " 'found': 145,\n",
              " 'put': 146,\n",
              " 'will': 147,\n",
              " 'hare': 148,\n",
              " 'made': 149,\n",
              " 'white': 150,\n",
              " 'next': 151,\n",
              " 'heard': 152,\n",
              " 'caterpillar': 153,\n",
              " 'dear': 154,\n",
              " 'look': 155,\n",
              " 'd': 156,\n",
              " 'replied': 157,\n",
              " 'day': 158,\n",
              " 'eyes': 159,\n",
              " 'things': 160,\n",
              " 'might': 161,\n",
              " 'door': 162,\n",
              " 'three': 163,\n",
              " 'seemed': 164,\n",
              " 'going': 165,\n",
              " 'good': 166,\n",
              " 'should': 167,\n",
              " 'poor': 168,\n",
              " 'make': 169,\n",
              " 'too': 170,\n",
              " 'upon': 171,\n",
              " 'won': 172,\n",
              " '—': 173,\n",
              " 'without': 174,\n",
              " 'shall': 175,\n",
              " 'rather': 176,\n",
              " 'soon': 177,\n",
              " 'away': 178,\n",
              " 'course': 179,\n",
              " 'chapter': 180,\n",
              " 'took': 181,\n",
              " 'than': 182,\n",
              " 'while': 183,\n",
              " 'same': 184,\n",
              " 'sure': 185,\n",
              " 'felt': 186,\n",
              " 'half': 187,\n",
              " 'added': 188,\n",
              " 'getting': 189,\n",
              " 'another': 190,\n",
              " 'ever': 191,\n",
              " 'yet': 192,\n",
              " 'take': 193,\n",
              " 'let': 194,\n",
              " 'words': 195,\n",
              " 'wish': 196,\n",
              " 'hand': 197,\n",
              " 'find': 198,\n",
              " 'minute': 199,\n",
              " 'till': 200,\n",
              " 'jury': 201,\n",
              " 'sort': 202,\n",
              " 'however': 203,\n",
              " 'cried': 204,\n",
              " 'feet': 205,\n",
              " 'tried': 206,\n",
              " 'anything': 207,\n",
              " 'please': 208,\n",
              " 'curious': 209,\n",
              " 'being': 210,\n",
              " 'old': 211,\n",
              " 'tea': 212,\n",
              " 'use': 213,\n",
              " 'wonder': 214,\n",
              " 'even': 215,\n",
              " 'house': 216,\n",
              " 'eat': 217,\n",
              " 'table': 218,\n",
              " 'something': 219,\n",
              " 'soup': 220,\n",
              " 'court': 221,\n",
              " 'end': 222,\n",
              " 'perhaps': 223,\n",
              " 'talking': 224,\n",
              " 'question': 225,\n",
              " 'side': 226,\n",
              " 'sat': 227,\n",
              " 'enough': 228,\n",
              " 'asked': 229,\n",
              " 'bill': 230,\n",
              " 'ran': 231,\n",
              " 'under': 232,\n",
              " 'am': 233,\n",
              " 'bit': 234,\n",
              " 'turned': 235,\n",
              " 'high': 236,\n",
              " 'indeed': 237,\n",
              " 'hastily': 238,\n",
              " 'doesn': 239,\n",
              " 'spoke': 240,\n",
              " 'mad': 241,\n",
              " 'near': 242,\n",
              " 'idea': 243,\n",
              " 'air': 244,\n",
              " 'saying': 245,\n",
              " 'low': 246,\n",
              " 'garden': 247,\n",
              " 'knew': 248,\n",
              " 'because': 249,\n",
              " 'gave': 250,\n",
              " 'done': 251,\n",
              " 'called': 252,\n",
              " 'arm': 253,\n",
              " 'hear': 254,\n",
              " 'itself': 255,\n",
              " 'ought': 256,\n",
              " 'seen': 257,\n",
              " 'saw': 258,\n",
              " 'through': 259,\n",
              " 'didn': 260,\n",
              " 'dinah': 261,\n",
              " 'remember': 262,\n",
              " 'certainly': 263,\n",
              " 'face': 264,\n",
              " 'left': 265,\n",
              " 'anxiously': 266,\n",
              " 'set': 267,\n",
              " 'speak': 268,\n",
              " 'these': 269,\n",
              " 'suppose': 270,\n",
              " 'talk': 271,\n",
              " 'us': 272,\n",
              " 'better': 273,\n",
              " 'silence': 274,\n",
              " 'both': 275,\n",
              " 'footman': 276,\n",
              " 'beginning': 277,\n",
              " 'suddenly': 278,\n",
              " 'close': 279,\n",
              " 'wouldn': 280,\n",
              " 'still': 281,\n",
              " 'people': 282,\n",
              " 'cats': 283,\n",
              " 'behind': 284,\n",
              " 'trying': 285,\n",
              " 'begin': 286,\n",
              " 'really': 287,\n",
              " 'size': 288,\n",
              " 'game': 289,\n",
              " 'grow': 290,\n",
              " 'far': 291,\n",
              " 'kept': 292,\n",
              " 'change': 293,\n",
              " 'sea': 294,\n",
              " 'dodo': 295,\n",
              " 'whole': 296,\n",
              " 'where': 297,\n",
              " 'room': 298,\n",
              " 'gone': 299,\n",
              " 'may': 300,\n",
              " 'beautiful': 301,\n",
              " 'baby': 302,\n",
              " 'cook': 303,\n",
              " 'dance': 304,\n",
              " 'tears': 305,\n",
              " 'pig': 306,\n",
              " 'many': 307,\n",
              " 'among': 308,\n",
              " 'else': 309,\n",
              " 'afraid': 310,\n",
              " 'every': 311,\n",
              " 'finished': 312,\n",
              " 'best': 313,\n",
              " 'hardly': 314,\n",
              " 'life': 315,\n",
              " 'deal': 316,\n",
              " 'give': 317,\n",
              " 'queer': 318,\n",
              " 'everything': 319,\n",
              " 'try': 320,\n",
              " 'used': 321,\n",
              " 'hands': 322,\n",
              " 'always': 323,\n",
              " 'turning': 324,\n",
              " 'yes': 325,\n",
              " 'pigeon': 326,\n",
              " 'majesty': 327,\n",
              " 'pool': 328,\n",
              " 'party': 329,\n",
              " 'book': 330,\n",
              " 'whether': 331,\n",
              " 'hurried': 332,\n",
              " 'though': 333,\n",
              " 'glad': 334,\n",
              " 'ask': 335,\n",
              " 'hurry': 336,\n",
              " 'read': 337,\n",
              " 'waited': 338,\n",
              " 'minutes': 339,\n",
              " 'child': 340,\n",
              " 'makes': 341,\n",
              " 'growing': 342,\n",
              " 'thinking': 343,\n",
              " 'nearly': 344,\n",
              " 'wasn': 345,\n",
              " 'turn': 346,\n",
              " 'croquet': 347,\n",
              " 'sitting': 348,\n",
              " 'having': 349,\n",
              " 'own': 350,\n",
              " 'mind': 351,\n",
              " 'either': 352,\n",
              " 'lessons': 353,\n",
              " 'heads': 354,\n",
              " 'word': 355,\n",
              " 'name': 356,\n",
              " 'sight': 357,\n",
              " 'walked': 358,\n",
              " 'glass': 359,\n",
              " 'small': 360,\n",
              " 'opened': 361,\n",
              " 'those': 362,\n",
              " 'bottle': 363,\n",
              " 'children': 364,\n",
              " 'hold': 365,\n",
              " 'foot': 366,\n",
              " 'yourself': 367,\n",
              " 'gloves': 368,\n",
              " 'fan': 369,\n",
              " 'offended': 370,\n",
              " 'creatures': 371,\n",
              " 'explain': 372,\n",
              " 'rest': 373,\n",
              " 'trial': 374,\n",
              " 'mean': 375,\n",
              " 'keep': 376,\n",
              " 'mouth': 377,\n",
              " 'repeated': 378,\n",
              " 'remarked': 379,\n",
              " 'remark': 380,\n",
              " 'soldiers': 381,\n",
              " 'witness': 382,\n",
              " 'pepper': 383,\n",
              " 'story': 384,\n",
              " 'sister': 385,\n",
              " 'couldn': 386,\n",
              " 'answer': 387,\n",
              " 'matter': 388,\n",
              " 'hall': 389,\n",
              " 'key': 390,\n",
              " 'rate': 391,\n",
              " 'few': 392,\n",
              " 'waiting': 393,\n",
              " 'leave': 394,\n",
              " 'box': 395,\n",
              " 'against': 396,\n",
              " 'want': 397,\n",
              " 'help': 398,\n",
              " 'different': 399,\n",
              " 'mine': 400,\n",
              " 'tail': 401,\n",
              " 'conversation': 402,\n",
              " 'birds': 403,\n",
              " 'continued': 404,\n",
              " 'believe': 405,\n",
              " 'call': 406,\n",
              " 'angrily': 407,\n",
              " 'shook': 408,\n",
              " 'does': 409,\n",
              " 'reason': 410,\n",
              " 'together': 411,\n",
              " 'shouted': 412,\n",
              " 'timidly': 413,\n",
              " 'serpent': 414,\n",
              " 'puzzled': 415,\n",
              " 'tree': 416,\n",
              " 'interrupted': 417,\n",
              " 'knave': 418,\n",
              " 'join': 419,\n",
              " 'ground': 420,\n",
              " 'tarts': 421,\n",
              " 'evidence': 422,\n",
              " 'feel': 423,\n",
              " 'making': 424,\n",
              " 'watch': 425,\n",
              " 'slowly': 426,\n",
              " 'happen': 427,\n",
              " 'coming': 428,\n",
              " 'noticed': 429,\n",
              " 'top': 430,\n",
              " 'four': 431,\n",
              " 'opportunity': 432,\n",
              " 'seem': 433,\n",
              " 'dry': 434,\n",
              " 'bright': 435,\n",
              " 'fact': 436,\n",
              " 'followed': 437,\n",
              " 'lying': 438,\n",
              " 'work': 439,\n",
              " 'ready': 440,\n",
              " 'hard': 441,\n",
              " 'changed': 442,\n",
              " 'five': 443,\n",
              " 'live': 444,\n",
              " 'play': 445,\n",
              " 'hadn': 446,\n",
              " 'beg': 447,\n",
              " 'our': 448,\n",
              " 'eagerly': 449,\n",
              " 'sit': 450,\n",
              " 'meaning': 451,\n",
              " 'running': 452,\n",
              " 'everybody': 453,\n",
              " 'exactly': 454,\n",
              " '‘i': 455,\n",
              " 'nobody': 456,\n",
              " 'window': 457,\n",
              " 'least': 458,\n",
              " 'place': 459,\n",
              " 'appeared': 460,\n",
              " 'each': 461,\n",
              " 'mushroom': 462,\n",
              " 'haven': 463,\n",
              " 'most': 464,\n",
              " 'fish': 465,\n",
              " 'asleep': 466,\n",
              " 'butter': 467,\n",
              " 'hearts': 468,\n",
              " 'gardeners': 469,\n",
              " 'whiting': 470,\n",
              " 'slates': 471,\n",
              " 'race': 472,\n",
              " 'lobster': 473,\n",
              " 'tired': 474,\n",
              " 'hot': 475,\n",
              " 'pocket': 476,\n",
              " 'world': 477,\n",
              " 'deep': 478,\n",
              " 'somebody': 479,\n",
              " 'fall': 480,\n",
              " 'listen': 481,\n",
              " 'manage': 482,\n",
              " 'begun': 483,\n",
              " 'dream': 484,\n",
              " 'middle': 485,\n",
              " 'wondering': 486,\n",
              " 'golden': 487,\n",
              " 'open': 488,\n",
              " 'larger': 489,\n",
              " 'happened': 490,\n",
              " 'neck': 491,\n",
              " 'drink': 492,\n",
              " '‘': 493,\n",
              " 'feeling': 494,\n",
              " 'generally': 495,\n",
              " 'eye': 496,\n",
              " 'surprised': 497,\n",
              " 'shoes': 498,\n",
              " 'myself': 499,\n",
              " 'kind': 500,\n",
              " 'nonsense': 501,\n",
              " 'distance': 502,\n",
              " 'hair': 503,\n",
              " 'goes': 504,\n",
              " 'repeat': 505,\n",
              " 'learn': 506,\n",
              " 'frightened': 507,\n",
              " 'chin': 508,\n",
              " 'william': 509,\n",
              " 'history': 510,\n",
              " 'fetch': 511,\n",
              " 'lory': 512,\n",
              " 'important': 513,\n",
              " 'has': 514,\n",
              " 'others': 515,\n",
              " 'stood': 516,\n",
              " 'grown': 517,\n",
              " 'business': 518,\n",
              " 'wood': 519,\n",
              " 'trees': 520,\n",
              " 'puppy': 521,\n",
              " 'isn': 522,\n",
              " 'draw': 523,\n",
              " 'silent': 524,\n",
              " 'nose': 525,\n",
              " 'cheshire': 526,\n",
              " 'pleased': 527,\n",
              " 'song': 528,\n",
              " 'bread': 529,\n",
              " 'treacle': 530,\n",
              " 'hedgehog': 531,\n",
              " 'moral': 532,\n",
              " 'lobsters': 533,\n",
              " 'soo—oop': 534,\n",
              " 'adventures': 535,\n",
              " 'stupid': 536,\n",
              " 'trouble': 537,\n",
              " 'late': 538,\n",
              " 'fell': 539,\n",
              " 'nice': 540,\n",
              " 'written': 541,\n",
              " 'leaves': 542,\n",
              " 'jumped': 543,\n",
              " 'roof': 544,\n",
              " 'inches': 545,\n",
              " 'marked': 546,\n",
              " 'forgotten': 547,\n",
              " 'almost': 548,\n",
              " 'ten': 549,\n",
              " 'english': 550,\n",
              " 'shan': 551,\n",
              " 'stop': 552,\n",
              " 'himself': 553,\n",
              " 'times': 554,\n",
              " 'seven': 555,\n",
              " 'grin': 556,\n",
              " 'understand': 557,\n",
              " 'sentence': 558,\n",
              " 'pardon': 559,\n",
              " 'trembling': 560,\n",
              " 'subject': 561,\n",
              " 'politely': 562,\n",
              " 'melancholy': 563,\n",
              " 'liked': 564,\n",
              " 'chorus': 565,\n",
              " 'piece': 566,\n",
              " 'sir': 567,\n",
              " 'executed': 568,\n",
              " 'broken': 569,\n",
              " 'chimney': 570,\n",
              " 'full': 571,\n",
              " 'write': 572,\n",
              " 'loud': 573,\n",
              " 'sharp': 574,\n",
              " 'lizard': 575,\n",
              " 'guinea': 576,\n",
              " 'pigs': 577,\n",
              " 'arms': 578,\n",
              " 'father': 579,\n",
              " 'stand': 580,\n",
              " 'youth': 581,\n",
              " 'sleep': 582,\n",
              " 'sneezing': 583,\n",
              " 'between': 584,\n",
              " 'told': 585,\n",
              " 'ear': 586,\n",
              " 'wow': 587,\n",
              " 'dreadfully': 588,\n",
              " 'writing': 589,\n",
              " 'sing': 590,\n",
              " 'twinkle': 591,\n",
              " 'exclaimed': 592,\n",
              " 'executioner': 593,\n",
              " 'school': 594,\n",
              " 'hole': 595,\n",
              " 'tale': 596,\n",
              " 'quadrille': 597,\n",
              " 'sleepy': 598,\n",
              " 'across': 599,\n",
              " 'curiosity': 600,\n",
              " 'passed': 601,\n",
              " 'home': 602,\n",
              " 'aloud': 603,\n",
              " 'walk': 604,\n",
              " 'new': 605,\n",
              " 'asking': 606,\n",
              " 'night': 607,\n",
              " 'sometimes': 608,\n",
              " 'walking': 609,\n",
              " 'sadly': 610,\n",
              " 'along': 611,\n",
              " 'shut': 612,\n",
              " 'simple': 613,\n",
              " 'cut': 614,\n",
              " 'finger': 615,\n",
              " 'nervous': 616,\n",
              " 'altogether': 617,\n",
              " 'fancy': 618,\n",
              " 'remembered': 619,\n",
              " 'happens': 620,\n",
              " 'pair': 621,\n",
              " 'nine': 622,\n",
              " 'until': 623,\n",
              " 'kid': 624,\n",
              " 'dropped': 625,\n",
              " 'usual': 626,\n",
              " 'morning': 627,\n",
              " 'ah': 628,\n",
              " 'wrong': 629,\n",
              " 'sounded': 630,\n",
              " 'strange': 631,\n",
              " 'seems': 632,\n",
              " 'stay': 633,\n",
              " 'sudden': 634,\n",
              " 'water': 635,\n",
              " 'case': 636,\n",
              " 'number': 637,\n",
              " 'swam': 638,\n",
              " 'nearer': 639,\n",
              " 'o': 640,\n",
              " 'speaking': 641,\n",
              " 'shrill': 642,\n",
              " 'angry': 643,\n",
              " 'crowded': 644,\n",
              " 'notice': 645,\n",
              " 'prizes': 646,\n",
              " 'dare': 647,\n",
              " 'confusion': 648,\n",
              " 'reply': 649,\n",
              " 'finish': 650,\n",
              " 'impatiently': 651,\n",
              " 'sighed': 652,\n",
              " 'temper': 653,\n",
              " 'young': 654,\n",
              " 'moved': 655,\n",
              " 'swim': 656,\n",
              " 'doing': 657,\n",
              " 'direction': 658,\n",
              " 'interesting': 659,\n",
              " 'become': 660,\n",
              " 'shouldn': 661,\n",
              " 'taking': 662,\n",
              " 'shriek': 663,\n",
              " 'drew': 664,\n",
              " 'sky': 665,\n",
              " 'instantly': 666,\n",
              " 'surprise': 667,\n",
              " 'height': 668,\n",
              " 'quietly': 669,\n",
              " 'hookah': 670,\n",
              " 'man': 671,\n",
              " 'often': 672,\n",
              " 'eggs': 673,\n",
              " 'meant': 674,\n",
              " 'waving': 675,\n",
              " 'clock': 676,\n",
              " 'rose': 677,\n",
              " 'faces': 678,\n",
              " 'procession': 679,\n",
              " 'rule': 680,\n",
              " 'pack': 681,\n",
              " 'knee': 682,\n",
              " 'whispered': 683,\n",
              " 'flamingo': 684,\n",
              " 'tis': 685,\n",
              " 'caucus': 686,\n",
              " 'twice': 687,\n",
              " 'pictures': 688,\n",
              " 'worth': 689,\n",
              " 'natural': 690,\n",
              " 'sides': 691,\n",
              " 'fear': 692,\n",
              " 'managed': 693,\n",
              " 'likely': 694,\n",
              " 'true': 695,\n",
              " 'fallen': 696,\n",
              " 'earth': 697,\n",
              " 'several': 698,\n",
              " 'sound': 699,\n",
              " 'girl': 700,\n",
              " 'catch': 701,\n",
              " 'bats': 702,\n",
              " 'passage': 703,\n",
              " 'ears': 704,\n",
              " 'except': 705,\n",
              " 'tiny': 706,\n",
              " 'alas': 707,\n",
              " 'second': 708,\n",
              " 'led': 709,\n",
              " 'shoulders': 710,\n",
              " 'paper': 711,\n",
              " 'taught': 712,\n",
              " 'deeply': 713,\n",
              " 'ventured': 714,\n",
              " 'reach': 715,\n",
              " 'sharply': 716,\n",
              " 'severely': 717,\n",
              " 'person': 718,\n",
              " 'care': 719,\n",
              " 'boots': 720,\n",
              " 'savage': 721,\n",
              " 'violently': 722,\n",
              " 'age': 723,\n",
              " 'mabel': 724,\n",
              " 'besides': 725,\n",
              " 'puzzling': 726,\n",
              " 'twelve': 727,\n",
              " 'capital': 728,\n",
              " 'alone': 729,\n",
              " 'shrinking': 730,\n",
              " 'escape': 731,\n",
              " 'digging': 732,\n",
              " 'fire': 733,\n",
              " 'paws': 734,\n",
              " 'says': 735,\n",
              " 'pale': 736,\n",
              " 'animals': 737,\n",
              " 'duck': 738,\n",
              " 'uncomfortable': 739,\n",
              " 'argument': 740,\n",
              " 'wanted': 741,\n",
              " 'frowning': 742,\n",
              " 'means': 743,\n",
              " 'solemnly': 744,\n",
              " 'pointing': 745,\n",
              " 'confused': 746,\n",
              " 'thimble': 747,\n",
              " 'short': 748,\n",
              " 'bowed': 749,\n",
              " 'judge': 750,\n",
              " 'breath': 751,\n",
              " 'tongue': 752,\n",
              " 'since': 753,\n",
              " 'vanished': 754,\n",
              " 'mary': 755,\n",
              " 'ann': 756,\n",
              " 'run': 757,\n",
              " 'chance': 758,\n",
              " 'ordered': 759,\n",
              " 'answered': 760,\n",
              " 'outside': 761,\n",
              " 'yer': 762,\n",
              " 'honour': 763,\n",
              " 'sounds': 764,\n",
              " 'hearing': 765,\n",
              " 'master': 766,\n",
              " 'fellow': 767,\n",
              " 'thank': 768,\n",
              " 'dead': 769,\n",
              " 'doubt': 770,\n",
              " 'lay': 771,\n",
              " 'crowd': 772,\n",
              " 'held': 773,\n",
              " 'plan': 774,\n",
              " 'difficulty': 775,\n",
              " 'stick': 776,\n",
              " 'grass': 777,\n",
              " 'perfectly': 778,\n",
              " 'none': 779,\n",
              " 'questions': 780,\n",
              " 'stuff': 781,\n",
              " 'decidedly': 782,\n",
              " 'thoughtfully': 783,\n",
              " 'green': 784,\n",
              " 'screamed': 785,\n",
              " 'indignantly': 786,\n",
              " 'taken': 787,\n",
              " 'lives': 788,\n",
              " 'otherwise': 789,\n",
              " 'dish': 790,\n",
              " 'days': 791,\n",
              " 'kitchen': 792,\n",
              " 'jumping': 793,\n",
              " 'carried': 794,\n",
              " 'hours': 795,\n",
              " 'busily': 796,\n",
              " 'beat': 797,\n",
              " 'verse': 798,\n",
              " 'creature': 799,\n",
              " 'grunted': 800,\n",
              " 'less': 801,\n",
              " 'fast': 802,\n",
              " 'crumbs': 803,\n",
              " 'shoulder': 804,\n",
              " 'twinkling': 805,\n",
              " 'know—': 806,\n",
              " 'sigh': 807,\n",
              " 'bottom': 808,\n",
              " 'begins': 809,\n",
              " 'consider': 810,\n",
              " 'arches': 811,\n",
              " 'players': 812,\n",
              " 'sobs': 813,\n",
              " 'porpoise': 814,\n",
              " 'beau—ootiful': 815,\n",
              " 'jurors': 816,\n",
              " 'officers': 817,\n",
              " 'suppressed': 818,\n",
              " 'jurymen': 819,\n",
              " 'verses': 820,\n",
              " 'wonderland': 821,\n",
              " 'advice': 822,\n",
              " 'stole': 823,\n",
              " 'peeped': 824,\n",
              " 'reading': 825,\n",
              " 'considering': 826,\n",
              " 'nor': 827,\n",
              " 'dark': 828,\n",
              " 'filled': 829,\n",
              " 'past': 830,\n",
              " 'stairs': 831,\n",
              " 'miles': 832,\n",
              " 'somewhere': 833,\n",
              " 'think—': 834,\n",
              " 'knowledge': 835,\n",
              " 'grand': 836,\n",
              " 'funny': 837,\n",
              " 'listening': 838,\n",
              " '—but': 839,\n",
              " 'ma': 840,\n",
              " 'miss': 841,\n",
              " 'hope': 842,\n",
              " 'mice': 843,\n",
              " 'bat': 844,\n",
              " 'hurt': 845,\n",
              " 'lost': 846,\n",
              " 'corner': 847,\n",
              " 'whiskers': 848,\n",
              " 'longer': 849,\n",
              " 'hanging': 850,\n",
              " 'delight': 851,\n",
              " 'telescope': 852,\n",
              " 'impossible': 853,\n",
              " 'hoping': 854,\n",
              " 'rules': 855,\n",
              " 'poison': 856,\n",
              " 'red': 857,\n",
              " 'knife': 858,\n",
              " 'certain': 859,\n",
              " 'later': 860,\n",
              " 'finding': 861,\n",
              " 'further': 862,\n",
              " 'candle': 863,\n",
              " 'decided': 864,\n",
              " 'possibly': 865,\n",
              " 'legs': 866,\n",
              " 'bring': 867,\n",
              " 'fond': 868,\n",
              " 'cake': 869,\n",
              " 'smaller': 870,\n",
              " 'holding': 871,\n",
              " 'remained': 872,\n",
              " 'expecting': 873,\n",
              " 'dull': 874,\n",
              " 'opening': 875,\n",
              " 'dears': 876,\n",
              " 'directions': 877,\n",
              " 'love': 878,\n",
              " 'cry': 879,\n",
              " 'pattering': 880,\n",
              " 'muttering': 881,\n",
              " 'timid': 882,\n",
              " 'yesterday': 883,\n",
              " 'sorts': 884,\n",
              " 'twenty': 885,\n",
              " 'doth': 886,\n",
              " 'crossed': 887,\n",
              " 'hoarse': 888,\n",
              " 'spread': 889,\n",
              " 'gently': 890,\n",
              " 'putting': 891,\n",
              " 'guess': 892,\n",
              " 'cause': 893,\n",
              " 'worse': 894,\n",
              " 'slipped': 895,\n",
              " 'general': 896,\n",
              " 'french': 897,\n",
              " 'notion': 898,\n",
              " 'lesson': 899,\n",
              " 'show': 900,\n",
              " 'washing': 901,\n",
              " 'dogs': 902,\n",
              " 'dog': 903,\n",
              " 'throw': 904,\n",
              " 'passion': 905,\n",
              " 'shore': 906,\n",
              " 'eaglet': 907,\n",
              " 'fur': 908,\n",
              " 'cross': 909,\n",
              " 'sulky': 910,\n",
              " 'allow': 911,\n",
              " 'frog': 912,\n",
              " 'crown': 913,\n",
              " 'move': 914,\n",
              " 'pressed': 915,\n",
              " 'handed': 916,\n",
              " 'gravely': 917,\n",
              " 'speech': 918,\n",
              " 'cheered': 919,\n",
              " 'grave': 920,\n",
              " 'solemn': 921,\n",
              " 'noise': 922,\n",
              " 'choked': 923,\n",
              " 'whisper': 924,\n",
              " 'sad': 925,\n",
              " 'sighing': 926,\n",
              " 'fury': 927,\n",
              " 'met': 928,\n",
              " 'attending': 929,\n",
              " 'pleaded': 930,\n",
              " 'easily': 931,\n",
              " 'joined': 932,\n",
              " 'pity': 933,\n",
              " 'crab': 934,\n",
              " 'particular': 935,\n",
              " 'venture': 936,\n",
              " 'carefully': 937,\n",
              " 'remarking': 938,\n",
              " 'suit': 939,\n",
              " 'mentioned': 940,\n",
              " 'guessed': 941,\n",
              " 'hunting': 942,\n",
              " 'mistake': 943,\n",
              " 'plate': 944,\n",
              " 'knocking': 945,\n",
              " 'real': 946,\n",
              " 'floor': 947,\n",
              " 'effect': 948,\n",
              " 'elbow': 949,\n",
              " 'whatever': 950,\n",
              " 'stopped': 951,\n",
              " 'forgetting': 952,\n",
              " 'crash': 953,\n",
              " 'pat': 954,\n",
              " 'em': 955,\n",
              " 'below': 956,\n",
              " 'kick': 957,\n",
              " 'above': 958,\n",
              " 'sense': 959,\n",
              " 'moving': 960,\n",
              " 'cakes': 961,\n",
              " 'paw': 962,\n",
              " 'hungry': 963,\n",
              " 'picked': 964,\n",
              " 'edge': 965,\n",
              " 'immediately': 966,\n",
              " 'folded': 967,\n",
              " 'confusing': 968,\n",
              " 'brought': 969,\n",
              " 'remarks': 970,\n",
              " 'pray': 971,\n",
              " 'free': 972,\n",
              " 'shaking': 973,\n",
              " 'succeeded': 974,\n",
              " 'serpents': 975,\n",
              " 'girls': 976,\n",
              " 'yours': 977,\n",
              " 'settled': 978,\n",
              " 'pieces': 979,\n",
              " 'nibbling': 980,\n",
              " 'bringing': 981,\n",
              " 'livery': 982,\n",
              " 'considered': 983,\n",
              " '—and': 984,\n",
              " 'loudly': 985,\n",
              " 'letter': 986,\n",
              " 'order': 987,\n",
              " 'staring': 988,\n",
              " 'howling': 989,\n",
              " 'instance': 990,\n",
              " 'repeating': 991,\n",
              " 'nursing': 992,\n",
              " 'courage': 993,\n",
              " 'grinned': 994,\n",
              " 'growl': 995,\n",
              " 'faster': 996,\n",
              " 'advantage': 997,\n",
              " 'tossing': 998,\n",
              " 'caught': 999,\n",
              " 'shaped': 1000,\n",
              " ...}"
            ]
          },
          "metadata": {},
          "execution_count": 42
        }
      ]
    },
    {
      "cell_type": "code",
      "source": [
        "vocab_len"
      ],
      "metadata": {
        "colab": {
          "base_uri": "https://localhost:8080/"
        },
        "id": "um7MWxkmygYu",
        "outputId": "34260d7b-db49-41fa-8195-53ae45a4c9c2"
      },
      "execution_count": 43,
      "outputs": [
        {
          "output_type": "execute_result",
          "data": {
            "text/plain": [
              "2760"
            ]
          },
          "metadata": {},
          "execution_count": 43
        }
      ]
    },
    {
      "cell_type": "code",
      "source": [
        "input_sequences = []\n",
        "\n",
        "for line in text.split('\\n'):\n",
        "    token_list = [token for list in tokenizer.texts_to_sequences([line]) for token in list]\n",
        "    input_sequences.extend([token_list[i:j] for i in range(len(token_list)) for j in range(i + 1, len(token_list) + 1)])\n",
        "\n",
        "# len(input_sequences)\n",
        "# input_sequences[0]"
      ],
      "metadata": {
        "id": "mwjEDaS4x55X"
      },
      "execution_count": 44,
      "outputs": []
    },
    {
      "cell_type": "markdown",
      "source": [
        "The input_sequences list you got has n-grams of variable length, which isin't very good for training, so we pad the sequences to make them equal in length."
      ],
      "metadata": {
        "id": "vUz1OpW82yZ7"
      }
    },
    {
      "cell_type": "code",
      "source": [
        "max_sequence_length = max(len(list) for list in input_sequences)\n",
        "generate_len =  int(np.median([len(list) for list in input_sequences]))#length of generated text should be roughly the median of lengths of all sentences in dataset\n",
        "input_sequences = np.array(pad_sequences(input_sequences , padding = \"pre\" , maxlen = max_sequence_length))\n",
        "\n",
        "# max_sequence_length\n",
        "# input_sequences.shape -> all possible n grams = shape[0] , each n gram padded to shape[1] regardless of n\n",
        "# input_sequences[0]"
      ],
      "metadata": {
        "id": "S1t1ccu52vPr"
      },
      "execution_count": 45,
      "outputs": []
    },
    {
      "cell_type": "code",
      "source": [
        "X, y = input_sequences[:,:-1] , input_sequences[:,-1]"
      ],
      "metadata": {
        "id": "e80GZV1jmUji"
      },
      "execution_count": 46,
      "outputs": []
    },
    {
      "cell_type": "code",
      "source": [
        "# len(X)\n",
        "# len(y)"
      ],
      "metadata": {
        "id": "CJ0ZfliLlCdc"
      },
      "execution_count": 47,
      "outputs": []
    },
    {
      "cell_type": "code",
      "source": [
        "# X[0]\n",
        "# y[0]"
      ],
      "metadata": {
        "id": "DQHAsDY5lQmy"
      },
      "execution_count": 48,
      "outputs": []
    },
    {
      "cell_type": "code",
      "source": [
        "y = to_categorical(y)"
      ],
      "metadata": {
        "id": "7AsnkPVDw2Ll"
      },
      "execution_count": 49,
      "outputs": []
    },
    {
      "cell_type": "code",
      "source": [
        "y.shape # -> since vocab_len = 2760"
      ],
      "metadata": {
        "colab": {
          "base_uri": "https://localhost:8080/"
        },
        "id": "GhCkAIKxnYbf",
        "outputId": "286339da-4266-4710-eea7-65eff094f7f3"
      },
      "execution_count": 50,
      "outputs": [
        {
          "output_type": "execute_result",
          "data": {
            "text/plain": [
              "(183710, 2760)"
            ]
          },
          "metadata": {},
          "execution_count": 50
        }
      ]
    },
    {
      "cell_type": "code",
      "source": [
        "model = Sequential([\n",
        "    Embedding(input_dim = vocab_len , output_dim =  50 , input_length =  max_sequence_length - 1 ),\n",
        "    LSTM(100),\n",
        "    Dense(vocab_len , activation = \"softmax\")\n",
        "])\n",
        "\n",
        "model.compile('adam' , 'categorical_crossentropy' , ['accuracy']) #->multi class binary label so cce"
      ],
      "metadata": {
        "id": "gDPSd6yzoGGY"
      },
      "execution_count": 51,
      "outputs": []
    },
    {
      "cell_type": "code",
      "source": [
        "model.summary()"
      ],
      "metadata": {
        "colab": {
          "base_uri": "https://localhost:8080/"
        },
        "id": "V7mT7EujyGY6",
        "outputId": "80562992-fac0-479d-b783-71632accae9c"
      },
      "execution_count": 52,
      "outputs": [
        {
          "output_type": "stream",
          "name": "stdout",
          "text": [
            "Model: \"sequential_2\"\n",
            "_________________________________________________________________\n",
            " Layer (type)                Output Shape              Param #   \n",
            "=================================================================\n",
            " embedding_1 (Embedding)     (None, 17, 50)            138000    \n",
            "                                                                 \n",
            " lstm (LSTM)                 (None, 100)               60400     \n",
            "                                                                 \n",
            " dense_2 (Dense)             (None, 2760)              278760    \n",
            "                                                                 \n",
            "=================================================================\n",
            "Total params: 477160 (1.82 MB)\n",
            "Trainable params: 477160 (1.82 MB)\n",
            "Non-trainable params: 0 (0.00 Byte)\n",
            "_________________________________________________________________\n"
          ]
        }
      ]
    },
    {
      "cell_type": "code",
      "source": [
        "model.fit(X, y, epochs=50,verbose=2)  #keeps crashing but loss is decreasing steadily so it's mostly correct"
      ],
      "metadata": {
        "id": "VuxEbbXpoMv-",
        "colab": {
          "base_uri": "https://localhost:8080/"
        },
        "outputId": "e96e8ced-8355-436b-b2b1-6c0d233f72fa"
      },
      "execution_count": 53,
      "outputs": [
        {
          "output_type": "stream",
          "name": "stdout",
          "text": [
            "Epoch 1/50\n",
            "5741/5741 - 46s - loss: 5.4194 - accuracy: 0.1023 - 46s/epoch - 8ms/step\n",
            "Epoch 2/50\n",
            "5741/5741 - 31s - loss: 4.4484 - accuracy: 0.1821 - 31s/epoch - 5ms/step\n",
            "Epoch 3/50\n",
            "5741/5741 - 32s - loss: 3.8732 - accuracy: 0.2504 - 32s/epoch - 6ms/step\n",
            "Epoch 4/50\n",
            "5741/5741 - 30s - loss: 3.4417 - accuracy: 0.3192 - 30s/epoch - 5ms/step\n",
            "Epoch 5/50\n",
            "5741/5741 - 31s - loss: 3.1201 - accuracy: 0.3798 - 31s/epoch - 5ms/step\n",
            "Epoch 6/50\n",
            "5741/5741 - 30s - loss: 2.8744 - accuracy: 0.4284 - 30s/epoch - 5ms/step\n",
            "Epoch 7/50\n",
            "5741/5741 - 32s - loss: 2.6828 - accuracy: 0.4690 - 32s/epoch - 5ms/step\n",
            "Epoch 8/50\n",
            "5741/5741 - 31s - loss: 2.5299 - accuracy: 0.5023 - 31s/epoch - 5ms/step\n",
            "Epoch 9/50\n",
            "5741/5741 - 31s - loss: 2.4079 - accuracy: 0.5271 - 31s/epoch - 5ms/step\n",
            "Epoch 10/50\n",
            "5741/5741 - 31s - loss: 2.3105 - accuracy: 0.5468 - 31s/epoch - 5ms/step\n",
            "Epoch 11/50\n",
            "5741/5741 - 31s - loss: 2.2288 - accuracy: 0.5639 - 31s/epoch - 5ms/step\n",
            "Epoch 12/50\n",
            "5741/5741 - 31s - loss: 2.1623 - accuracy: 0.5771 - 31s/epoch - 5ms/step\n",
            "Epoch 13/50\n",
            "5741/5741 - 30s - loss: 2.1055 - accuracy: 0.5894 - 30s/epoch - 5ms/step\n",
            "Epoch 14/50\n",
            "5741/5741 - 31s - loss: 2.0574 - accuracy: 0.5985 - 31s/epoch - 5ms/step\n",
            "Epoch 15/50\n",
            "5741/5741 - 30s - loss: 2.0162 - accuracy: 0.6065 - 30s/epoch - 5ms/step\n",
            "Epoch 16/50\n",
            "5741/5741 - 30s - loss: 1.9806 - accuracy: 0.6137 - 30s/epoch - 5ms/step\n",
            "Epoch 17/50\n",
            "5741/5741 - 31s - loss: 1.9491 - accuracy: 0.6201 - 31s/epoch - 5ms/step\n",
            "Epoch 18/50\n",
            "5741/5741 - 30s - loss: 1.9223 - accuracy: 0.6248 - 30s/epoch - 5ms/step\n",
            "Epoch 19/50\n",
            "5741/5741 - 30s - loss: 1.8983 - accuracy: 0.6291 - 30s/epoch - 5ms/step\n",
            "Epoch 20/50\n",
            "5741/5741 - 30s - loss: 1.8766 - accuracy: 0.6337 - 30s/epoch - 5ms/step\n",
            "Epoch 21/50\n",
            "5741/5741 - 29s - loss: 1.8575 - accuracy: 0.6374 - 29s/epoch - 5ms/step\n",
            "Epoch 22/50\n",
            "5741/5741 - 30s - loss: 1.8409 - accuracy: 0.6397 - 30s/epoch - 5ms/step\n",
            "Epoch 23/50\n",
            "5741/5741 - 30s - loss: 1.8255 - accuracy: 0.6433 - 30s/epoch - 5ms/step\n",
            "Epoch 24/50\n",
            "5741/5741 - 29s - loss: 1.8111 - accuracy: 0.6453 - 29s/epoch - 5ms/step\n",
            "Epoch 25/50\n",
            "5741/5741 - 31s - loss: 1.7992 - accuracy: 0.6479 - 31s/epoch - 5ms/step\n",
            "Epoch 26/50\n",
            "5741/5741 - 31s - loss: 1.7883 - accuracy: 0.6496 - 31s/epoch - 5ms/step\n",
            "Epoch 27/50\n",
            "5741/5741 - 30s - loss: 1.7770 - accuracy: 0.6517 - 30s/epoch - 5ms/step\n",
            "Epoch 28/50\n",
            "5741/5741 - 31s - loss: 1.7671 - accuracy: 0.6538 - 31s/epoch - 5ms/step\n",
            "Epoch 29/50\n",
            "5741/5741 - 31s - loss: 1.7578 - accuracy: 0.6553 - 31s/epoch - 5ms/step\n",
            "Epoch 30/50\n",
            "5741/5741 - 32s - loss: 1.7505 - accuracy: 0.6567 - 32s/epoch - 6ms/step\n",
            "Epoch 31/50\n",
            "5741/5741 - 31s - loss: 1.7425 - accuracy: 0.6577 - 31s/epoch - 5ms/step\n",
            "Epoch 32/50\n",
            "5741/5741 - 32s - loss: 1.7358 - accuracy: 0.6583 - 32s/epoch - 6ms/step\n",
            "Epoch 33/50\n",
            "5741/5741 - 31s - loss: 1.7291 - accuracy: 0.6601 - 31s/epoch - 5ms/step\n",
            "Epoch 34/50\n",
            "5741/5741 - 32s - loss: 1.7236 - accuracy: 0.6608 - 32s/epoch - 6ms/step\n",
            "Epoch 35/50\n",
            "5741/5741 - 31s - loss: 1.7169 - accuracy: 0.6623 - 31s/epoch - 5ms/step\n",
            "Epoch 36/50\n",
            "5741/5741 - 32s - loss: 1.7124 - accuracy: 0.6633 - 32s/epoch - 6ms/step\n",
            "Epoch 37/50\n",
            "5741/5741 - 31s - loss: 1.7071 - accuracy: 0.6644 - 31s/epoch - 5ms/step\n",
            "Epoch 38/50\n",
            "5741/5741 - 32s - loss: 1.7016 - accuracy: 0.6646 - 32s/epoch - 6ms/step\n",
            "Epoch 39/50\n",
            "5741/5741 - 31s - loss: 1.6977 - accuracy: 0.6654 - 31s/epoch - 5ms/step\n",
            "Epoch 40/50\n",
            "5741/5741 - 31s - loss: 1.6938 - accuracy: 0.6659 - 31s/epoch - 5ms/step\n",
            "Epoch 41/50\n",
            "5741/5741 - 31s - loss: 1.6902 - accuracy: 0.6669 - 31s/epoch - 5ms/step\n",
            "Epoch 42/50\n",
            "5741/5741 - 31s - loss: 1.6854 - accuracy: 0.6671 - 31s/epoch - 5ms/step\n",
            "Epoch 43/50\n",
            "5741/5741 - 32s - loss: 1.6828 - accuracy: 0.6672 - 32s/epoch - 6ms/step\n",
            "Epoch 44/50\n",
            "5741/5741 - 30s - loss: 1.6796 - accuracy: 0.6684 - 30s/epoch - 5ms/step\n",
            "Epoch 45/50\n",
            "5741/5741 - 30s - loss: 1.6759 - accuracy: 0.6693 - 30s/epoch - 5ms/step\n",
            "Epoch 46/50\n",
            "5741/5741 - 29s - loss: 1.6730 - accuracy: 0.6695 - 29s/epoch - 5ms/step\n",
            "Epoch 47/50\n",
            "5741/5741 - 29s - loss: 1.6695 - accuracy: 0.6702 - 29s/epoch - 5ms/step\n",
            "Epoch 48/50\n",
            "5741/5741 - 30s - loss: 1.6674 - accuracy: 0.6704 - 30s/epoch - 5ms/step\n",
            "Epoch 49/50\n",
            "5741/5741 - 30s - loss: 1.6638 - accuracy: 0.6712 - 30s/epoch - 5ms/step\n",
            "Epoch 50/50\n",
            "5741/5741 - 29s - loss: 1.6611 - accuracy: 0.6711 - 29s/epoch - 5ms/step\n"
          ]
        },
        {
          "output_type": "execute_result",
          "data": {
            "text/plain": [
              "<keras.src.callbacks.History at 0x7d3301c8dea0>"
            ]
          },
          "metadata": {},
          "execution_count": 53
        }
      ]
    },
    {
      "cell_type": "code",
      "source": [
        "tokenizer1 = tf.keras.preprocessing.text.Tokenizer(filters='!\"#$%&()*+,-./:;<=>?@[\\\\]^_`{|}~\\t\\n”“’')\n",
        "def generate_text(seed_text, next_words, model, max_sequence_len):\n",
        "    tokenizer1.fit_on_texts([seed_text])\n",
        "    for _ in range(next_words):\n",
        "        sequence = tokenizer1.texts_to_sequences([seed_text])\n",
        "\n",
        "        sequence = pad_sequences(sequence , padding = \"pre\" , maxlen = max_sequence_length - 1)\n",
        "        predicted_probs = model.predict(sequence, verbose=0)\n",
        "        predicted = np.argmax(predicted_probs)\n",
        "\n",
        "        output_word =  [key for key in vocabulary if vocabulary[key] == predicted][0]\n",
        "        seed_text += \" \" + output_word\n",
        "    return seed_text\n",
        "\n",
        "generated_text = generate_text(\"Alice was\", generate_len , model, max_sequence_length)\n",
        "print(generated_text)"
      ],
      "metadata": {
        "id": "EspPa4FIoPek",
        "colab": {
          "base_uri": "https://localhost:8080/"
        },
        "outputId": "8ef6e6c6-7b8c-41d0-c64d-c1a4a6eca9f8"
      },
      "execution_count": 54,
      "outputs": [
        {
          "output_type": "stream",
          "name": "stdout",
          "text": [
            "Alice was butter butter butter butter\n"
          ]
        }
      ]
    },
    {
      "cell_type": "markdown",
      "source": [
        "# Question Answering using RNN\n",
        "\n",
        "\n"
      ],
      "metadata": {
        "id": "5aa__eLSJTBi"
      }
    },
    {
      "cell_type": "code",
      "source": [
        "df = pd.read_csv('/content/gdrive/My Drive/ques_ans.csv')"
      ],
      "metadata": {
        "id": "jZCzv-poLoO1"
      },
      "execution_count": 55,
      "outputs": []
    },
    {
      "cell_type": "code",
      "source": [
        "df.head()"
      ],
      "metadata": {
        "colab": {
          "base_uri": "https://localhost:8080/",
          "height": 206
        },
        "id": "Ei36021I_zqP",
        "outputId": "f75f4430-3c20-4f5d-d4b2-ca5e97f66bf6"
      },
      "execution_count": 56,
      "outputs": [
        {
          "output_type": "execute_result",
          "data": {
            "text/plain": [
              "       textID                                               text  \\\n",
              "0  cb774db0d1                I`d have responded, if I were going   \n",
              "1  549e992a42      Sooo SAD I will miss you here in San Diego!!!   \n",
              "2  088c60f138                          my boss is bullying me...   \n",
              "3  9642c003ef                     what interview! leave me alone   \n",
              "4  358bd9e861   Sons of ****, why couldn`t they put them on t...   \n",
              "\n",
              "                         selected_text sentiment  \n",
              "0  I`d have responded, if I were going   neutral  \n",
              "1                             Sooo SAD  negative  \n",
              "2                          bullying me  negative  \n",
              "3                       leave me alone  negative  \n",
              "4                        Sons of ****,  negative  "
            ],
            "text/html": [
              "\n",
              "  <div id=\"df-5d906bf8-0dce-4ce8-b75e-d2b50ffc8ef1\" class=\"colab-df-container\">\n",
              "    <div>\n",
              "<style scoped>\n",
              "    .dataframe tbody tr th:only-of-type {\n",
              "        vertical-align: middle;\n",
              "    }\n",
              "\n",
              "    .dataframe tbody tr th {\n",
              "        vertical-align: top;\n",
              "    }\n",
              "\n",
              "    .dataframe thead th {\n",
              "        text-align: right;\n",
              "    }\n",
              "</style>\n",
              "<table border=\"1\" class=\"dataframe\">\n",
              "  <thead>\n",
              "    <tr style=\"text-align: right;\">\n",
              "      <th></th>\n",
              "      <th>textID</th>\n",
              "      <th>text</th>\n",
              "      <th>selected_text</th>\n",
              "      <th>sentiment</th>\n",
              "    </tr>\n",
              "  </thead>\n",
              "  <tbody>\n",
              "    <tr>\n",
              "      <th>0</th>\n",
              "      <td>cb774db0d1</td>\n",
              "      <td>I`d have responded, if I were going</td>\n",
              "      <td>I`d have responded, if I were going</td>\n",
              "      <td>neutral</td>\n",
              "    </tr>\n",
              "    <tr>\n",
              "      <th>1</th>\n",
              "      <td>549e992a42</td>\n",
              "      <td>Sooo SAD I will miss you here in San Diego!!!</td>\n",
              "      <td>Sooo SAD</td>\n",
              "      <td>negative</td>\n",
              "    </tr>\n",
              "    <tr>\n",
              "      <th>2</th>\n",
              "      <td>088c60f138</td>\n",
              "      <td>my boss is bullying me...</td>\n",
              "      <td>bullying me</td>\n",
              "      <td>negative</td>\n",
              "    </tr>\n",
              "    <tr>\n",
              "      <th>3</th>\n",
              "      <td>9642c003ef</td>\n",
              "      <td>what interview! leave me alone</td>\n",
              "      <td>leave me alone</td>\n",
              "      <td>negative</td>\n",
              "    </tr>\n",
              "    <tr>\n",
              "      <th>4</th>\n",
              "      <td>358bd9e861</td>\n",
              "      <td>Sons of ****, why couldn`t they put them on t...</td>\n",
              "      <td>Sons of ****,</td>\n",
              "      <td>negative</td>\n",
              "    </tr>\n",
              "  </tbody>\n",
              "</table>\n",
              "</div>\n",
              "    <div class=\"colab-df-buttons\">\n",
              "\n",
              "  <div class=\"colab-df-container\">\n",
              "    <button class=\"colab-df-convert\" onclick=\"convertToInteractive('df-5d906bf8-0dce-4ce8-b75e-d2b50ffc8ef1')\"\n",
              "            title=\"Convert this dataframe to an interactive table.\"\n",
              "            style=\"display:none;\">\n",
              "\n",
              "  <svg xmlns=\"http://www.w3.org/2000/svg\" height=\"24px\" viewBox=\"0 -960 960 960\">\n",
              "    <path d=\"M120-120v-720h720v720H120Zm60-500h600v-160H180v160Zm220 220h160v-160H400v160Zm0 220h160v-160H400v160ZM180-400h160v-160H180v160Zm440 0h160v-160H620v160ZM180-180h160v-160H180v160Zm440 0h160v-160H620v160Z\"/>\n",
              "  </svg>\n",
              "    </button>\n",
              "\n",
              "  <style>\n",
              "    .colab-df-container {\n",
              "      display:flex;\n",
              "      gap: 12px;\n",
              "    }\n",
              "\n",
              "    .colab-df-convert {\n",
              "      background-color: #E8F0FE;\n",
              "      border: none;\n",
              "      border-radius: 50%;\n",
              "      cursor: pointer;\n",
              "      display: none;\n",
              "      fill: #1967D2;\n",
              "      height: 32px;\n",
              "      padding: 0 0 0 0;\n",
              "      width: 32px;\n",
              "    }\n",
              "\n",
              "    .colab-df-convert:hover {\n",
              "      background-color: #E2EBFA;\n",
              "      box-shadow: 0px 1px 2px rgba(60, 64, 67, 0.3), 0px 1px 3px 1px rgba(60, 64, 67, 0.15);\n",
              "      fill: #174EA6;\n",
              "    }\n",
              "\n",
              "    .colab-df-buttons div {\n",
              "      margin-bottom: 4px;\n",
              "    }\n",
              "\n",
              "    [theme=dark] .colab-df-convert {\n",
              "      background-color: #3B4455;\n",
              "      fill: #D2E3FC;\n",
              "    }\n",
              "\n",
              "    [theme=dark] .colab-df-convert:hover {\n",
              "      background-color: #434B5C;\n",
              "      box-shadow: 0px 1px 3px 1px rgba(0, 0, 0, 0.15);\n",
              "      filter: drop-shadow(0px 1px 2px rgba(0, 0, 0, 0.3));\n",
              "      fill: #FFFFFF;\n",
              "    }\n",
              "  </style>\n",
              "\n",
              "    <script>\n",
              "      const buttonEl =\n",
              "        document.querySelector('#df-5d906bf8-0dce-4ce8-b75e-d2b50ffc8ef1 button.colab-df-convert');\n",
              "      buttonEl.style.display =\n",
              "        google.colab.kernel.accessAllowed ? 'block' : 'none';\n",
              "\n",
              "      async function convertToInteractive(key) {\n",
              "        const element = document.querySelector('#df-5d906bf8-0dce-4ce8-b75e-d2b50ffc8ef1');\n",
              "        const dataTable =\n",
              "          await google.colab.kernel.invokeFunction('convertToInteractive',\n",
              "                                                    [key], {});\n",
              "        if (!dataTable) return;\n",
              "\n",
              "        const docLinkHtml = 'Like what you see? Visit the ' +\n",
              "          '<a target=\"_blank\" href=https://colab.research.google.com/notebooks/data_table.ipynb>data table notebook</a>'\n",
              "          + ' to learn more about interactive tables.';\n",
              "        element.innerHTML = '';\n",
              "        dataTable['output_type'] = 'display_data';\n",
              "        await google.colab.output.renderOutput(dataTable, element);\n",
              "        const docLink = document.createElement('div');\n",
              "        docLink.innerHTML = docLinkHtml;\n",
              "        element.appendChild(docLink);\n",
              "      }\n",
              "    </script>\n",
              "  </div>\n",
              "\n",
              "\n",
              "<div id=\"df-aca056ee-bb93-4170-8184-af390ac332f8\">\n",
              "  <button class=\"colab-df-quickchart\" onclick=\"quickchart('df-aca056ee-bb93-4170-8184-af390ac332f8')\"\n",
              "            title=\"Suggest charts\"\n",
              "            style=\"display:none;\">\n",
              "\n",
              "<svg xmlns=\"http://www.w3.org/2000/svg\" height=\"24px\"viewBox=\"0 0 24 24\"\n",
              "     width=\"24px\">\n",
              "    <g>\n",
              "        <path d=\"M19 3H5c-1.1 0-2 .9-2 2v14c0 1.1.9 2 2 2h14c1.1 0 2-.9 2-2V5c0-1.1-.9-2-2-2zM9 17H7v-7h2v7zm4 0h-2V7h2v10zm4 0h-2v-4h2v4z\"/>\n",
              "    </g>\n",
              "</svg>\n",
              "  </button>\n",
              "\n",
              "<style>\n",
              "  .colab-df-quickchart {\n",
              "      --bg-color: #E8F0FE;\n",
              "      --fill-color: #1967D2;\n",
              "      --hover-bg-color: #E2EBFA;\n",
              "      --hover-fill-color: #174EA6;\n",
              "      --disabled-fill-color: #AAA;\n",
              "      --disabled-bg-color: #DDD;\n",
              "  }\n",
              "\n",
              "  [theme=dark] .colab-df-quickchart {\n",
              "      --bg-color: #3B4455;\n",
              "      --fill-color: #D2E3FC;\n",
              "      --hover-bg-color: #434B5C;\n",
              "      --hover-fill-color: #FFFFFF;\n",
              "      --disabled-bg-color: #3B4455;\n",
              "      --disabled-fill-color: #666;\n",
              "  }\n",
              "\n",
              "  .colab-df-quickchart {\n",
              "    background-color: var(--bg-color);\n",
              "    border: none;\n",
              "    border-radius: 50%;\n",
              "    cursor: pointer;\n",
              "    display: none;\n",
              "    fill: var(--fill-color);\n",
              "    height: 32px;\n",
              "    padding: 0;\n",
              "    width: 32px;\n",
              "  }\n",
              "\n",
              "  .colab-df-quickchart:hover {\n",
              "    background-color: var(--hover-bg-color);\n",
              "    box-shadow: 0 1px 2px rgba(60, 64, 67, 0.3), 0 1px 3px 1px rgba(60, 64, 67, 0.15);\n",
              "    fill: var(--button-hover-fill-color);\n",
              "  }\n",
              "\n",
              "  .colab-df-quickchart-complete:disabled,\n",
              "  .colab-df-quickchart-complete:disabled:hover {\n",
              "    background-color: var(--disabled-bg-color);\n",
              "    fill: var(--disabled-fill-color);\n",
              "    box-shadow: none;\n",
              "  }\n",
              "\n",
              "  .colab-df-spinner {\n",
              "    border: 2px solid var(--fill-color);\n",
              "    border-color: transparent;\n",
              "    border-bottom-color: var(--fill-color);\n",
              "    animation:\n",
              "      spin 1s steps(1) infinite;\n",
              "  }\n",
              "\n",
              "  @keyframes spin {\n",
              "    0% {\n",
              "      border-color: transparent;\n",
              "      border-bottom-color: var(--fill-color);\n",
              "      border-left-color: var(--fill-color);\n",
              "    }\n",
              "    20% {\n",
              "      border-color: transparent;\n",
              "      border-left-color: var(--fill-color);\n",
              "      border-top-color: var(--fill-color);\n",
              "    }\n",
              "    30% {\n",
              "      border-color: transparent;\n",
              "      border-left-color: var(--fill-color);\n",
              "      border-top-color: var(--fill-color);\n",
              "      border-right-color: var(--fill-color);\n",
              "    }\n",
              "    40% {\n",
              "      border-color: transparent;\n",
              "      border-right-color: var(--fill-color);\n",
              "      border-top-color: var(--fill-color);\n",
              "    }\n",
              "    60% {\n",
              "      border-color: transparent;\n",
              "      border-right-color: var(--fill-color);\n",
              "    }\n",
              "    80% {\n",
              "      border-color: transparent;\n",
              "      border-right-color: var(--fill-color);\n",
              "      border-bottom-color: var(--fill-color);\n",
              "    }\n",
              "    90% {\n",
              "      border-color: transparent;\n",
              "      border-bottom-color: var(--fill-color);\n",
              "    }\n",
              "  }\n",
              "</style>\n",
              "\n",
              "  <script>\n",
              "    async function quickchart(key) {\n",
              "      const quickchartButtonEl =\n",
              "        document.querySelector('#' + key + ' button');\n",
              "      quickchartButtonEl.disabled = true;  // To prevent multiple clicks.\n",
              "      quickchartButtonEl.classList.add('colab-df-spinner');\n",
              "      try {\n",
              "        const charts = await google.colab.kernel.invokeFunction(\n",
              "            'suggestCharts', [key], {});\n",
              "      } catch (error) {\n",
              "        console.error('Error during call to suggestCharts:', error);\n",
              "      }\n",
              "      quickchartButtonEl.classList.remove('colab-df-spinner');\n",
              "      quickchartButtonEl.classList.add('colab-df-quickchart-complete');\n",
              "    }\n",
              "    (() => {\n",
              "      let quickchartButtonEl =\n",
              "        document.querySelector('#df-aca056ee-bb93-4170-8184-af390ac332f8 button');\n",
              "      quickchartButtonEl.style.display =\n",
              "        google.colab.kernel.accessAllowed ? 'block' : 'none';\n",
              "    })();\n",
              "  </script>\n",
              "</div>\n",
              "\n",
              "    </div>\n",
              "  </div>\n"
            ],
            "application/vnd.google.colaboratory.intrinsic+json": {
              "type": "dataframe",
              "variable_name": "df",
              "summary": "{\n  \"name\": \"df\",\n  \"rows\": 27481,\n  \"fields\": [\n    {\n      \"column\": \"textID\",\n      \"properties\": {\n        \"dtype\": \"string\",\n        \"num_unique_values\": 27481,\n        \"samples\": [\n          \"a7f72a928a\",\n          \"ef42dee96c\",\n          \"07d17131b1\"\n        ],\n        \"semantic_type\": \"\",\n        \"description\": \"\"\n      }\n    },\n    {\n      \"column\": \"text\",\n      \"properties\": {\n        \"dtype\": \"string\",\n        \"num_unique_values\": 27480,\n        \"samples\": [\n          \" Enjoy! Family trumps everything\",\n          \" --of them kinda turns me off of it all.  And then I buy more of them and dig a deeper hole, etc. ;;\",\n          \"Clive it`s my birthday pat me  http://apps.facebook.com/dogbook/profile/view/6386106\"\n        ],\n        \"semantic_type\": \"\",\n        \"description\": \"\"\n      }\n    },\n    {\n      \"column\": \"selected_text\",\n      \"properties\": {\n        \"dtype\": \"string\",\n        \"num_unique_values\": 22463,\n        \"samples\": [\n          \"we win\",\n          \"YES!!! haahaaa.! break out the jellybeaniesss!\",\n          \"hay wats ur AIM? we should chat\"\n        ],\n        \"semantic_type\": \"\",\n        \"description\": \"\"\n      }\n    },\n    {\n      \"column\": \"sentiment\",\n      \"properties\": {\n        \"dtype\": \"category\",\n        \"num_unique_values\": 3,\n        \"samples\": [\n          \"neutral\",\n          \"negative\",\n          \"positive\"\n        ],\n        \"semantic_type\": \"\",\n        \"description\": \"\"\n      }\n    }\n  ]\n}"
            }
          },
          "metadata": {},
          "execution_count": 56
        }
      ]
    },
    {
      "cell_type": "code",
      "source": [
        "df.describe()"
      ],
      "metadata": {
        "colab": {
          "base_uri": "https://localhost:8080/",
          "height": 174
        },
        "id": "vaoeih38M1ju",
        "outputId": "8a222637-8ef1-4d3b-8e06-c517eec0edc8"
      },
      "execution_count": 57,
      "outputs": [
        {
          "output_type": "execute_result",
          "data": {
            "text/plain": [
              "            textID                                               text  \\\n",
              "count        27481                                              27480   \n",
              "unique       27481                                              27480   \n",
              "top     6f7127d9d7     All this flirting going on - The ATG smiles...   \n",
              "freq             1                                                  1   \n",
              "\n",
              "       selected_text sentiment  \n",
              "count          27480     27481  \n",
              "unique         22463         3  \n",
              "top             good   neutral  \n",
              "freq             199     11118  "
            ],
            "text/html": [
              "\n",
              "  <div id=\"df-50305261-51ab-451b-940e-78f77c882e98\" class=\"colab-df-container\">\n",
              "    <div>\n",
              "<style scoped>\n",
              "    .dataframe tbody tr th:only-of-type {\n",
              "        vertical-align: middle;\n",
              "    }\n",
              "\n",
              "    .dataframe tbody tr th {\n",
              "        vertical-align: top;\n",
              "    }\n",
              "\n",
              "    .dataframe thead th {\n",
              "        text-align: right;\n",
              "    }\n",
              "</style>\n",
              "<table border=\"1\" class=\"dataframe\">\n",
              "  <thead>\n",
              "    <tr style=\"text-align: right;\">\n",
              "      <th></th>\n",
              "      <th>textID</th>\n",
              "      <th>text</th>\n",
              "      <th>selected_text</th>\n",
              "      <th>sentiment</th>\n",
              "    </tr>\n",
              "  </thead>\n",
              "  <tbody>\n",
              "    <tr>\n",
              "      <th>count</th>\n",
              "      <td>27481</td>\n",
              "      <td>27480</td>\n",
              "      <td>27480</td>\n",
              "      <td>27481</td>\n",
              "    </tr>\n",
              "    <tr>\n",
              "      <th>unique</th>\n",
              "      <td>27481</td>\n",
              "      <td>27480</td>\n",
              "      <td>22463</td>\n",
              "      <td>3</td>\n",
              "    </tr>\n",
              "    <tr>\n",
              "      <th>top</th>\n",
              "      <td>6f7127d9d7</td>\n",
              "      <td>All this flirting going on - The ATG smiles...</td>\n",
              "      <td>good</td>\n",
              "      <td>neutral</td>\n",
              "    </tr>\n",
              "    <tr>\n",
              "      <th>freq</th>\n",
              "      <td>1</td>\n",
              "      <td>1</td>\n",
              "      <td>199</td>\n",
              "      <td>11118</td>\n",
              "    </tr>\n",
              "  </tbody>\n",
              "</table>\n",
              "</div>\n",
              "    <div class=\"colab-df-buttons\">\n",
              "\n",
              "  <div class=\"colab-df-container\">\n",
              "    <button class=\"colab-df-convert\" onclick=\"convertToInteractive('df-50305261-51ab-451b-940e-78f77c882e98')\"\n",
              "            title=\"Convert this dataframe to an interactive table.\"\n",
              "            style=\"display:none;\">\n",
              "\n",
              "  <svg xmlns=\"http://www.w3.org/2000/svg\" height=\"24px\" viewBox=\"0 -960 960 960\">\n",
              "    <path d=\"M120-120v-720h720v720H120Zm60-500h600v-160H180v160Zm220 220h160v-160H400v160Zm0 220h160v-160H400v160ZM180-400h160v-160H180v160Zm440 0h160v-160H620v160ZM180-180h160v-160H180v160Zm440 0h160v-160H620v160Z\"/>\n",
              "  </svg>\n",
              "    </button>\n",
              "\n",
              "  <style>\n",
              "    .colab-df-container {\n",
              "      display:flex;\n",
              "      gap: 12px;\n",
              "    }\n",
              "\n",
              "    .colab-df-convert {\n",
              "      background-color: #E8F0FE;\n",
              "      border: none;\n",
              "      border-radius: 50%;\n",
              "      cursor: pointer;\n",
              "      display: none;\n",
              "      fill: #1967D2;\n",
              "      height: 32px;\n",
              "      padding: 0 0 0 0;\n",
              "      width: 32px;\n",
              "    }\n",
              "\n",
              "    .colab-df-convert:hover {\n",
              "      background-color: #E2EBFA;\n",
              "      box-shadow: 0px 1px 2px rgba(60, 64, 67, 0.3), 0px 1px 3px 1px rgba(60, 64, 67, 0.15);\n",
              "      fill: #174EA6;\n",
              "    }\n",
              "\n",
              "    .colab-df-buttons div {\n",
              "      margin-bottom: 4px;\n",
              "    }\n",
              "\n",
              "    [theme=dark] .colab-df-convert {\n",
              "      background-color: #3B4455;\n",
              "      fill: #D2E3FC;\n",
              "    }\n",
              "\n",
              "    [theme=dark] .colab-df-convert:hover {\n",
              "      background-color: #434B5C;\n",
              "      box-shadow: 0px 1px 3px 1px rgba(0, 0, 0, 0.15);\n",
              "      filter: drop-shadow(0px 1px 2px rgba(0, 0, 0, 0.3));\n",
              "      fill: #FFFFFF;\n",
              "    }\n",
              "  </style>\n",
              "\n",
              "    <script>\n",
              "      const buttonEl =\n",
              "        document.querySelector('#df-50305261-51ab-451b-940e-78f77c882e98 button.colab-df-convert');\n",
              "      buttonEl.style.display =\n",
              "        google.colab.kernel.accessAllowed ? 'block' : 'none';\n",
              "\n",
              "      async function convertToInteractive(key) {\n",
              "        const element = document.querySelector('#df-50305261-51ab-451b-940e-78f77c882e98');\n",
              "        const dataTable =\n",
              "          await google.colab.kernel.invokeFunction('convertToInteractive',\n",
              "                                                    [key], {});\n",
              "        if (!dataTable) return;\n",
              "\n",
              "        const docLinkHtml = 'Like what you see? Visit the ' +\n",
              "          '<a target=\"_blank\" href=https://colab.research.google.com/notebooks/data_table.ipynb>data table notebook</a>'\n",
              "          + ' to learn more about interactive tables.';\n",
              "        element.innerHTML = '';\n",
              "        dataTable['output_type'] = 'display_data';\n",
              "        await google.colab.output.renderOutput(dataTable, element);\n",
              "        const docLink = document.createElement('div');\n",
              "        docLink.innerHTML = docLinkHtml;\n",
              "        element.appendChild(docLink);\n",
              "      }\n",
              "    </script>\n",
              "  </div>\n",
              "\n",
              "\n",
              "<div id=\"df-6ec0c1f2-0ed9-4471-868a-fc4733eb2c71\">\n",
              "  <button class=\"colab-df-quickchart\" onclick=\"quickchart('df-6ec0c1f2-0ed9-4471-868a-fc4733eb2c71')\"\n",
              "            title=\"Suggest charts\"\n",
              "            style=\"display:none;\">\n",
              "\n",
              "<svg xmlns=\"http://www.w3.org/2000/svg\" height=\"24px\"viewBox=\"0 0 24 24\"\n",
              "     width=\"24px\">\n",
              "    <g>\n",
              "        <path d=\"M19 3H5c-1.1 0-2 .9-2 2v14c0 1.1.9 2 2 2h14c1.1 0 2-.9 2-2V5c0-1.1-.9-2-2-2zM9 17H7v-7h2v7zm4 0h-2V7h2v10zm4 0h-2v-4h2v4z\"/>\n",
              "    </g>\n",
              "</svg>\n",
              "  </button>\n",
              "\n",
              "<style>\n",
              "  .colab-df-quickchart {\n",
              "      --bg-color: #E8F0FE;\n",
              "      --fill-color: #1967D2;\n",
              "      --hover-bg-color: #E2EBFA;\n",
              "      --hover-fill-color: #174EA6;\n",
              "      --disabled-fill-color: #AAA;\n",
              "      --disabled-bg-color: #DDD;\n",
              "  }\n",
              "\n",
              "  [theme=dark] .colab-df-quickchart {\n",
              "      --bg-color: #3B4455;\n",
              "      --fill-color: #D2E3FC;\n",
              "      --hover-bg-color: #434B5C;\n",
              "      --hover-fill-color: #FFFFFF;\n",
              "      --disabled-bg-color: #3B4455;\n",
              "      --disabled-fill-color: #666;\n",
              "  }\n",
              "\n",
              "  .colab-df-quickchart {\n",
              "    background-color: var(--bg-color);\n",
              "    border: none;\n",
              "    border-radius: 50%;\n",
              "    cursor: pointer;\n",
              "    display: none;\n",
              "    fill: var(--fill-color);\n",
              "    height: 32px;\n",
              "    padding: 0;\n",
              "    width: 32px;\n",
              "  }\n",
              "\n",
              "  .colab-df-quickchart:hover {\n",
              "    background-color: var(--hover-bg-color);\n",
              "    box-shadow: 0 1px 2px rgba(60, 64, 67, 0.3), 0 1px 3px 1px rgba(60, 64, 67, 0.15);\n",
              "    fill: var(--button-hover-fill-color);\n",
              "  }\n",
              "\n",
              "  .colab-df-quickchart-complete:disabled,\n",
              "  .colab-df-quickchart-complete:disabled:hover {\n",
              "    background-color: var(--disabled-bg-color);\n",
              "    fill: var(--disabled-fill-color);\n",
              "    box-shadow: none;\n",
              "  }\n",
              "\n",
              "  .colab-df-spinner {\n",
              "    border: 2px solid var(--fill-color);\n",
              "    border-color: transparent;\n",
              "    border-bottom-color: var(--fill-color);\n",
              "    animation:\n",
              "      spin 1s steps(1) infinite;\n",
              "  }\n",
              "\n",
              "  @keyframes spin {\n",
              "    0% {\n",
              "      border-color: transparent;\n",
              "      border-bottom-color: var(--fill-color);\n",
              "      border-left-color: var(--fill-color);\n",
              "    }\n",
              "    20% {\n",
              "      border-color: transparent;\n",
              "      border-left-color: var(--fill-color);\n",
              "      border-top-color: var(--fill-color);\n",
              "    }\n",
              "    30% {\n",
              "      border-color: transparent;\n",
              "      border-left-color: var(--fill-color);\n",
              "      border-top-color: var(--fill-color);\n",
              "      border-right-color: var(--fill-color);\n",
              "    }\n",
              "    40% {\n",
              "      border-color: transparent;\n",
              "      border-right-color: var(--fill-color);\n",
              "      border-top-color: var(--fill-color);\n",
              "    }\n",
              "    60% {\n",
              "      border-color: transparent;\n",
              "      border-right-color: var(--fill-color);\n",
              "    }\n",
              "    80% {\n",
              "      border-color: transparent;\n",
              "      border-right-color: var(--fill-color);\n",
              "      border-bottom-color: var(--fill-color);\n",
              "    }\n",
              "    90% {\n",
              "      border-color: transparent;\n",
              "      border-bottom-color: var(--fill-color);\n",
              "    }\n",
              "  }\n",
              "</style>\n",
              "\n",
              "  <script>\n",
              "    async function quickchart(key) {\n",
              "      const quickchartButtonEl =\n",
              "        document.querySelector('#' + key + ' button');\n",
              "      quickchartButtonEl.disabled = true;  // To prevent multiple clicks.\n",
              "      quickchartButtonEl.classList.add('colab-df-spinner');\n",
              "      try {\n",
              "        const charts = await google.colab.kernel.invokeFunction(\n",
              "            'suggestCharts', [key], {});\n",
              "      } catch (error) {\n",
              "        console.error('Error during call to suggestCharts:', error);\n",
              "      }\n",
              "      quickchartButtonEl.classList.remove('colab-df-spinner');\n",
              "      quickchartButtonEl.classList.add('colab-df-quickchart-complete');\n",
              "    }\n",
              "    (() => {\n",
              "      let quickchartButtonEl =\n",
              "        document.querySelector('#df-6ec0c1f2-0ed9-4471-868a-fc4733eb2c71 button');\n",
              "      quickchartButtonEl.style.display =\n",
              "        google.colab.kernel.accessAllowed ? 'block' : 'none';\n",
              "    })();\n",
              "  </script>\n",
              "</div>\n",
              "\n",
              "    </div>\n",
              "  </div>\n"
            ],
            "application/vnd.google.colaboratory.intrinsic+json": {
              "type": "dataframe",
              "summary": "{\n  \"name\": \"df\",\n  \"rows\": 4,\n  \"fields\": [\n    {\n      \"column\": \"textID\",\n      \"properties\": {\n        \"dtype\": \"string\",\n        \"num_unique_values\": 3,\n        \"samples\": [\n          \"27481\",\n          \"6f7127d9d7\",\n          \"1\"\n        ],\n        \"semantic_type\": \"\",\n        \"description\": \"\"\n      }\n    },\n    {\n      \"column\": \"text\",\n      \"properties\": {\n        \"dtype\": \"string\",\n        \"num_unique_values\": 3,\n        \"samples\": [\n          \"27480\",\n          \"   All this flirting going on - The ATG smiles. Yay.  ((hugs))\",\n          \"1\"\n        ],\n        \"semantic_type\": \"\",\n        \"description\": \"\"\n      }\n    },\n    {\n      \"column\": \"selected_text\",\n      \"properties\": {\n        \"dtype\": \"string\",\n        \"num_unique_values\": 4,\n        \"samples\": [\n          22463,\n          \"199\",\n          \"27480\"\n        ],\n        \"semantic_type\": \"\",\n        \"description\": \"\"\n      }\n    },\n    {\n      \"column\": \"sentiment\",\n      \"properties\": {\n        \"dtype\": \"string\",\n        \"num_unique_values\": 4,\n        \"samples\": [\n          3,\n          \"11118\",\n          \"27481\"\n        ],\n        \"semantic_type\": \"\",\n        \"description\": \"\"\n      }\n    }\n  ]\n}"
            }
          },
          "metadata": {},
          "execution_count": 57
        }
      ]
    },
    {
      "cell_type": "code",
      "source": [
        "df.isnull().sum()"
      ],
      "metadata": {
        "colab": {
          "base_uri": "https://localhost:8080/"
        },
        "id": "kYXamv8qNG4v",
        "outputId": "cf25931e-b992-4a80-b9a9-1191be0e5174"
      },
      "execution_count": 58,
      "outputs": [
        {
          "output_type": "execute_result",
          "data": {
            "text/plain": [
              "textID           0\n",
              "text             1\n",
              "selected_text    1\n",
              "sentiment        0\n",
              "dtype: int64"
            ]
          },
          "metadata": {},
          "execution_count": 58
        }
      ]
    },
    {
      "cell_type": "code",
      "source": [
        "df.dropna(inplace = True)"
      ],
      "metadata": {
        "id": "uEYklKpONMI8"
      },
      "execution_count": 59,
      "outputs": []
    },
    {
      "cell_type": "code",
      "source": [
        "context_tokenizer = Tokenizer(filters='!\"#$%&()*+,-./:;<=>?@[\\\\]^_`{|}~\\t\\n”“’')\n",
        "\n",
        "context_tokenizer.fit_on_texts(df['text'])\n",
        "\n",
        "context = context_tokenizer.texts_to_sequences(df['text'])\n",
        "\n",
        "answers = context_tokenizer.texts_to_sequences(df['selected_text']) # -> works cause selected text is subset of text so fitted tokenizer knows what's in it\n",
        "\n",
        "beg_pos = [[1 if a[x:x+len(b)] == b else 0 for x in range(len(a))] for a, b in zip(context, answers)] #-> taking pairs of context and answers. iterating over each character of a , and saying\n",
        "#that , if x se leke x + len(b) (subarray of size len(b)) is b , then that x is the starting of b\n",
        "end_pos = [[1 if a[x -len(b) + 1 : x + 1] == b else 0 for x in range(len(a))] for a, b in zip(context, answers)] #if x- len(b) se leke x is b , then x is ending pos of b"
      ],
      "metadata": {
        "id": "jWv6i3fWJVtX"
      },
      "execution_count": 60,
      "outputs": []
    },
    {
      "cell_type": "code",
      "source": [
        "# beg_pos[2]\n",
        "# end_pos[2]\n",
        "#so it's correct"
      ],
      "metadata": {
        "id": "pxts7nT2htPS"
      },
      "execution_count": 61,
      "outputs": []
    },
    {
      "cell_type": "code",
      "source": [
        "context = np.array(pad_sequences(context, maxlen = 36, padding='post', truncating='post'))\n",
        "beg_pos = np.array(pad_sequences(beg_pos , maxlen = 36 , padding = \"post\"))\n",
        "end_pos = np.array(pad_sequences(end_pos , maxlen = 36 , padding = \"post\"))\n",
        "\n",
        "zero_rows = np.all(beg_pos == 0 , axis = 1)\n",
        "\n",
        "context , beg_pos , end_pos = context[~zero_rows] , beg_pos[~zero_rows] , end_pos[~zero_rows]\n",
        "\n",
        "beg_pos = np.expand_dims(beg_pos, axis=2)\n",
        "end_pos = np.expand_dims(end_pos, axis=2)\n",
        "\n",
        "ans_vec = np.concatenate((beg_pos, end_pos), axis=2)\n",
        "\n",
        "context.shape, beg_pos.shape, end_pos.shape, ans_vec.shape"
      ],
      "metadata": {
        "id": "By_dxSPvKUlk",
        "colab": {
          "base_uri": "https://localhost:8080/"
        },
        "outputId": "713321b7-b23c-464e-d85d-d2aa8ccbdeaa"
      },
      "execution_count": 62,
      "outputs": [
        {
          "output_type": "execute_result",
          "data": {
            "text/plain": [
              "((26235, 36), (26235, 36, 1), (26235, 36, 1), (26235, 36, 2))"
            ]
          },
          "metadata": {},
          "execution_count": 62
        }
      ]
    },
    {
      "cell_type": "code",
      "source": [
        "question_tokenizer = Tokenizer(filters='!\"#$%&()*+,-./:;<=>?@[\\\\]^_`{|}~\\t\\n”“’')\n",
        "question_tokenizer.fit_on_texts(df.sentiment.fillna(''))\n",
        "question = question_tokenizer.texts_to_sequences(df.sentiment.fillna(''))\n",
        "question = np.array(pad_sequences(question , maxlen = 36 , padding = \"post\"))\n",
        "question = question[~zero_rows]\n",
        "\n",
        "question.shape"
      ],
      "metadata": {
        "id": "yZFr55V7KmHO",
        "colab": {
          "base_uri": "https://localhost:8080/"
        },
        "outputId": "cd98fe72-142e-45cf-9478-3852a1a9d72d"
      },
      "execution_count": 63,
      "outputs": [
        {
          "output_type": "execute_result",
          "data": {
            "text/plain": [
              "(26235, 36)"
            ]
          },
          "metadata": {},
          "execution_count": 63
        }
      ]
    },
    {
      "cell_type": "code",
      "source": [
        "X1_train , X1_test , X2_train , X2_test , y_train , y_test = train_test_split(context , question , ans_vec , test_size = 0.3 , random_state = 2021)\n",
        "\n",
        "X1_train.shape , X1_test.shape , X2_train.shape , X2_test.shape , y_train.shape , y_test.shape"
      ],
      "metadata": {
        "id": "EMdkUz60L-1M",
        "colab": {
          "base_uri": "https://localhost:8080/"
        },
        "outputId": "cec71743-91ca-4dbf-fd38-afa976d9cbcc"
      },
      "execution_count": 64,
      "outputs": [
        {
          "output_type": "execute_result",
          "data": {
            "text/plain": [
              "((18364, 36),\n",
              " (7871, 36),\n",
              " (18364, 36),\n",
              " (7871, 36),\n",
              " (18364, 36, 2),\n",
              " (7871, 36, 2))"
            ]
          },
          "metadata": {},
          "execution_count": 64
        }
      ]
    },
    {
      "cell_type": "code",
      "source": [
        "from tensorflow import keras\n",
        "from tensorflow.keras import layers as L\n",
        "\n",
        "EMBED_DIM = 64\n",
        "N_REC = 64\n",
        "timesteps = question.shape[0] #->basically just number of sentences\n",
        "context_inp = L.Input(shape = (36))\n",
        "context_emb = L.Embedding(len(context_tokenizer.word_index)+1, EMBED_DIM, name='context_embeddings')(context_inp)\n",
        "question_inp = L.Input(shape = (36))\n",
        "question_emb = L.Embedding(len(question_tokenizer.word_index)+1, EMBED_DIM, name='question_embeddings')(question_inp)\n",
        "\n",
        "\n",
        "context_gru = L.GRU(N_REC , return_sequences = True)(context_emb)\n",
        "question_gru = L.GRU(N_REC , return_sequences = True)(question_emb)\n",
        "\n",
        "concat_emb = L.Concatenate(axis = -1)([context_gru, question_gru])\n",
        "\n",
        "outputs = L.Dense(2)(concat_emb)\n",
        "\n",
        "\n",
        "model = keras.Model(inputs=[context_inp, question_inp], outputs=outputs)\n",
        "model.compile(loss='binary_crossentropy', optimizer=keras.optimizers.Adam(1e-4) , metrics = ['accuracy'])\n",
        "model.summary()\n",
        "keras.utils.plot_model(model, show_shapes=True)"
      ],
      "metadata": {
        "id": "nEO6UI_2Lz1D",
        "colab": {
          "base_uri": "https://localhost:8080/",
          "height": 1000
        },
        "outputId": "dd4bce8b-c295-4753-befc-231e5273e8bc"
      },
      "execution_count": 65,
      "outputs": [
        {
          "output_type": "stream",
          "name": "stdout",
          "text": [
            "Model: \"model\"\n",
            "__________________________________________________________________________________________________\n",
            " Layer (type)                Output Shape                 Param #   Connected to                  \n",
            "==================================================================================================\n",
            " input_1 (InputLayer)        [(None, 36)]                 0         []                            \n",
            "                                                                                                  \n",
            " input_2 (InputLayer)        [(None, 36)]                 0         []                            \n",
            "                                                                                                  \n",
            " context_embeddings (Embedd  (None, 36, 64)               1702336   ['input_1[0][0]']             \n",
            " ing)                                                                                             \n",
            "                                                                                                  \n",
            " question_embeddings (Embed  (None, 36, 64)               256       ['input_2[0][0]']             \n",
            " ding)                                                                                            \n",
            "                                                                                                  \n",
            " gru (GRU)                   (None, 36, 64)               24960     ['context_embeddings[0][0]']  \n",
            "                                                                                                  \n",
            " gru_1 (GRU)                 (None, 36, 64)               24960     ['question_embeddings[0][0]'] \n",
            "                                                                                                  \n",
            " concatenate (Concatenate)   (None, 36, 128)              0         ['gru[0][0]',                 \n",
            "                                                                     'gru_1[0][0]']               \n",
            "                                                                                                  \n",
            " dense_3 (Dense)             (None, 36, 2)                258       ['concatenate[0][0]']         \n",
            "                                                                                                  \n",
            "==================================================================================================\n",
            "Total params: 1752770 (6.69 MB)\n",
            "Trainable params: 1752770 (6.69 MB)\n",
            "Non-trainable params: 0 (0.00 Byte)\n",
            "__________________________________________________________________________________________________\n"
          ]
        },
        {
          "output_type": "execute_result",
          "data": {
            "image/png": "[encoded data removed]",
            "text/plain": [
              "<IPython.core.display.Image object>"
            ]
          },
          "metadata": {},
          "execution_count": 65
        }
      ]
    },
    {
      "cell_type": "code",
      "source": [
        "es = keras.callbacks.EarlyStopping(min_delta=1e-4, patience=5, verbose=1, restore_best_weights=True)\n",
        "rlp = keras.callbacks.ReduceLROnPlateau(patience=2, verbose=1)\n",
        "\n",
        "history = model.fit([X1_train , X2_train] , y_train , epochs = 25 , validation_data=([X1_test, X2_test], y_test) , callbacks = [es , rlp])"
      ],
      "metadata": {
        "id": "DYXjYywPL63Z",
        "colab": {
          "base_uri": "https://localhost:8080/"
        },
        "outputId": "1a26ad0e-afb3-49f6-dff3-5d1f693302d6"
      },
      "execution_count": 66,
      "outputs": [
        {
          "output_type": "stream",
          "name": "stdout",
          "text": [
            "Epoch 1/25\n",
            "574/574 [==============================] - 32s 43ms/step - loss: 0.1204 - accuracy: 0.5718 - val_loss: 0.0981 - val_accuracy: 0.6607 - lr: 1.0000e-04\n",
            "Epoch 2/25\n",
            "574/574 [==============================] - 10s 18ms/step - loss: 0.0954 - accuracy: 0.7124 - val_loss: 0.0953 - val_accuracy: 0.9331 - lr: 1.0000e-04\n",
            "Epoch 3/25\n",
            "574/574 [==============================] - 7s 13ms/step - loss: 0.0880 - accuracy: 0.7529 - val_loss: 0.0851 - val_accuracy: 0.7055 - lr: 1.0000e-04\n",
            "Epoch 4/25\n",
            "574/574 [==============================] - 8s 15ms/step - loss: 0.0807 - accuracy: 0.7476 - val_loss: 0.0827 - val_accuracy: 0.7245 - lr: 1.0000e-04\n",
            "Epoch 5/25\n",
            "574/574 [==============================] - 9s 15ms/step - loss: 0.0777 - accuracy: 0.7621 - val_loss: 0.0798 - val_accuracy: 0.7546 - lr: 1.0000e-04\n",
            "Epoch 6/25\n",
            "574/574 [==============================] - 7s 12ms/step - loss: 0.0718 - accuracy: 0.7613 - val_loss: 0.0807 - val_accuracy: 0.7588 - lr: 1.0000e-04\n",
            "Epoch 7/25\n",
            "570/574 [============================>.] - ETA: 0s - loss: 0.0704 - accuracy: 0.8034\n",
            "Epoch 7: ReduceLROnPlateau reducing learning rate to 9.999999747378752e-06.\n",
            "574/574 [==============================] - 7s 13ms/step - loss: 0.0703 - accuracy: 0.8032 - val_loss: 0.0829 - val_accuracy: 0.7591 - lr: 1.0000e-04\n",
            "Epoch 8/25\n",
            "574/574 [==============================] - 7s 12ms/step - loss: 0.0672 - accuracy: 0.7620 - val_loss: 0.0817 - val_accuracy: 0.7556 - lr: 1.0000e-05\n",
            "Epoch 9/25\n",
            "571/574 [============================>.] - ETA: 0s - loss: 0.0669 - accuracy: 0.7598\n",
            "Epoch 9: ReduceLROnPlateau reducing learning rate to 9.999999747378752e-07.\n",
            "574/574 [==============================] - 8s 14ms/step - loss: 0.0669 - accuracy: 0.7598 - val_loss: 0.0811 - val_accuracy: 0.7504 - lr: 1.0000e-05\n",
            "Epoch 10/25\n",
            "571/574 [============================>.] - ETA: 0s - loss: 0.0667 - accuracy: 0.7589Restoring model weights from the end of the best epoch: 5.\n",
            "574/574 [==============================] - 7s 12ms/step - loss: 0.0666 - accuracy: 0.7589 - val_loss: 0.0813 - val_accuracy: 0.7523 - lr: 1.0000e-06\n",
            "Epoch 10: early stopping\n"
          ]
        }
      ]
    },
    {
      "cell_type": "code",
      "source": [
        "def predict_custom_input(custom_context, custom_question):\n",
        "    custom_context_seq = context_tokenizer.texts_to_sequences([custom_context])\n",
        "    custom_context_padded = np.array(pad_sequences(custom_context_seq, maxlen=36, padding='post', truncating='post'))\n",
        "\n",
        "    custom_question_seq = question_tokenizer.texts_to_sequences([custom_question])\n",
        "    custom_question_padded = np.array(pad_sequences(custom_question_seq, maxlen=36, padding='post', truncating='post'))\n",
        "\n",
        "    predictions = model.predict([custom_context_padded, custom_question_padded])\n",
        "\n",
        "    pred_ans_beg, pred_ans_end = np.ravel(predictions.argmax(axis=1))\n",
        "\n",
        "    pred_answer_text = context_tokenizer.sequences_to_texts([custom_context_padded[0][pred_ans_beg: pred_ans_end+1]])\n",
        "\n",
        "    print('Custom Input:')\n",
        "    print('Context:', custom_context)\n",
        "    print('Question:', custom_question)\n",
        "    print('Predicted Answer:', pred_answer_text)\n",
        "\n",
        "custom_context_input = input(\"Your custom context goes here.\")\n",
        "custom_question_input = input(\"Your custom question goes here.\")\n",
        "predict_custom_input(custom_context_input, custom_question_input)\n"
      ],
      "metadata": {
        "id": "CAV2bPSHVfDG"
      },
      "execution_count": null,
      "outputs": []
    }
  ]
}